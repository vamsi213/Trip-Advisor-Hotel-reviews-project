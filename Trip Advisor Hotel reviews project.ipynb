{
 "cells": [
  {
   "cell_type": "markdown",
   "id": "ee7599c2",
   "metadata": {
    "id": "ee7599c2",
    "papermill": {
     "duration": 0.009007,
     "end_time": "2023-03-08T07:36:38.090288",
     "exception": false,
     "start_time": "2023-03-08T07:36:38.081281",
     "status": "completed"
    },
    "tags": []
   },
   "source": [
    "## EDA for Natural Language Processing\n",
    "\n",
    "Exploratory Data Analysis is a crucial stage in any Data Science project. While EDA techniques have a wide range of options when it comes to Tabular data, the same is not true for text data. There are specific methods that work for NLP problems, that lead to a productive outcome. Text Data has many forms of input and also has a different set of properties and features. And of course, with such a wide range of use cases, there's always a unique way of analysis.\n",
    "\n",
    "We will look at some fundamental EDA techniques for text data:\n",
    "* **Counts and Lengths**: Count of words and sentences, their length and average length\n",
    "* **Term Frequency Analysis**: Most frequently occuring words and n_grams\n",
    "\n",
    "For demonstration, we will use the Trip Advisor Hotel Reviews"
   ]
  },
  {
   "cell_type": "markdown",
   "id": "0affce3f",
   "metadata": {
    "id": "0affce3f",
    "papermill": {
     "duration": 0.007469,
     "end_time": "2023-03-08T07:36:38.105829",
     "exception": false,
     "start_time": "2023-03-08T07:36:38.098360",
     "status": "completed"
    },
    "tags": []
   },
   "source": [
    "## Setup"
   ]
  },
  {
   "cell_type": "markdown",
   "id": "s45zAmUnI3dF",
   "metadata": {
    "id": "s45zAmUnI3dF"
   },
   "source": [
    "This code import several libraries"
   ]
  },
  {
   "cell_type": "code",
   "execution_count": 1,
   "id": "e4107b19",
   "metadata": {
    "execution": {
     "iopub.execute_input": "2023-03-08T07:36:38.123778Z",
     "iopub.status.busy": "2023-03-08T07:36:38.122492Z",
     "iopub.status.idle": "2023-03-08T07:36:39.664363Z",
     "shell.execute_reply": "2023-03-08T07:36:39.663432Z"
    },
    "executionInfo": {
     "elapsed": 2159,
     "status": "ok",
     "timestamp": 1681235547115,
     "user": {
      "displayName": "Hồ Tuấn Long",
      "userId": "17493867880430202716"
     },
     "user_tz": -420
    },
    "id": "e4107b19",
    "papermill": {
     "duration": 1.553434,
     "end_time": "2023-03-08T07:36:39.666868",
     "exception": false,
     "start_time": "2023-03-08T07:36:38.113434",
     "status": "completed"
    },
    "tags": []
   },
   "outputs": [],
   "source": [
    "import numpy as np\n",
    "import pandas as pd\n",
    "import matplotlib.pyplot as plt\n",
    "import seaborn as sns\n",
    "import string\n",
    "import re\n",
    "import nltk\n",
    "\n",
    "from tqdm import trange\n",
    "from nltk import tokenize\n",
    "from nltk.corpus import stopwords\n",
    "from nltk.stem import WordNetLemmatizer\n",
    "from nltk.probability import FreqDist\n",
    "from collections import Counter\n",
    "from sklearn.feature_extraction.text import CountVectorizer"
   ]
  },
  {
   "cell_type": "markdown",
   "id": "b5Ais-nGI9-C",
   "metadata": {
    "id": "b5Ais-nGI9-C"
   },
   "source": [
    "This code block imports warnings and filters them out to avoid cluttering the output. It also downloads the Open Multilingual Wordnet-1.4 using nltk's download function and sets some default styling and font size parameters for the matplotlib plots that will be created later.\n",
    "\n",
    "\n",
    "\n",
    "\n"
   ]
  },
  {
   "cell_type": "code",
   "execution_count": 2,
   "id": "dc3b74d8",
   "metadata": {
    "execution": {
     "iopub.execute_input": "2023-03-08T07:36:39.685060Z",
     "iopub.status.busy": "2023-03-08T07:36:39.684753Z",
     "iopub.status.idle": "2023-03-08T07:36:39.891900Z",
     "shell.execute_reply": "2023-03-08T07:36:39.890921Z"
    },
    "executionInfo": {
     "elapsed": 349,
     "status": "ok",
     "timestamp": 1681235550827,
     "user": {
      "displayName": "Hồ Tuấn Long",
      "userId": "17493867880430202716"
     },
     "user_tz": -420
    },
    "id": "dc3b74d8",
    "papermill": {
     "duration": 0.218355,
     "end_time": "2023-03-08T07:36:39.894396",
     "exception": false,
     "start_time": "2023-03-08T07:36:39.676041",
     "status": "completed"
    },
    "tags": []
   },
   "outputs": [],
   "source": [
    "import warnings\n",
    "warnings.filterwarnings('ignore')\n",
    "nltk.download('omw-1.4', quiet=True)\n",
    "sns.set_style('darkgrid')\n",
    "plt.rcParams['figure.figsize'] = (17,7)\n",
    "plt.rcParams['font.size'] = 18"
   ]
  },
  {
   "cell_type": "markdown",
   "id": "789058c9",
   "metadata": {
    "id": "789058c9",
    "papermill": {
     "duration": 0.007463,
     "end_time": "2023-03-08T07:36:39.909660",
     "exception": false,
     "start_time": "2023-03-08T07:36:39.902197",
     "status": "completed"
    },
    "tags": []
   },
   "source": [
    "## Loading the Data"
   ]
  },
  {
   "cell_type": "markdown",
   "id": "JOq5MkjrI-zU",
   "metadata": {
    "id": "JOq5MkjrI-zU"
   },
   "source": [
    "This code block read data from csv file and print first 10 rows of dataframe"
   ]
  },
  {
   "cell_type": "code",
   "execution_count": 3,
   "id": "7e1e92aa",
   "metadata": {
    "_kg_hide-input": false,
    "_kg_hide-output": true,
    "colab": {
     "base_uri": "https://localhost:8080/",
     "height": 363
    },
    "execution": {
     "iopub.execute_input": "2023-03-08T07:36:39.927523Z",
     "iopub.status.busy": "2023-03-08T07:36:39.925857Z",
     "iopub.status.idle": "2023-03-08T07:36:40.311233Z",
     "shell.execute_reply": "2023-03-08T07:36:40.310306Z"
    },
    "executionInfo": {
     "elapsed": 1499,
     "status": "ok",
     "timestamp": 1681235554744,
     "user": {
      "displayName": "Hồ Tuấn Long",
      "userId": "17493867880430202716"
     },
     "user_tz": -420
    },
    "id": "7e1e92aa",
    "outputId": "ef89904d-eef2-4f5f-eec2-fca085feed1a",
    "papermill": {
     "duration": 0.396557,
     "end_time": "2023-03-08T07:36:40.313693",
     "exception": false,
     "start_time": "2023-03-08T07:36:39.917136",
     "status": "completed"
    },
    "tags": []
   },
   "outputs": [
    {
     "data": {
      "text/html": [
       "\n",
       "  <div id=\"df-8ac22de9-a80b-4212-b198-664a4b38d870\">\n",
       "    <div class=\"colab-df-container\">\n",
       "      <div>\n",
       "<style scoped>\n",
       "    .dataframe tbody tr th:only-of-type {\n",
       "        vertical-align: middle;\n",
       "    }\n",
       "\n",
       "    .dataframe tbody tr th {\n",
       "        vertical-align: top;\n",
       "    }\n",
       "\n",
       "    .dataframe thead th {\n",
       "        text-align: right;\n",
       "    }\n",
       "</style>\n",
       "<table border=\"1\" class=\"dataframe\">\n",
       "  <thead>\n",
       "    <tr style=\"text-align: right;\">\n",
       "      <th></th>\n",
       "      <th>Review</th>\n",
       "      <th>Rating</th>\n",
       "    </tr>\n",
       "  </thead>\n",
       "  <tbody>\n",
       "    <tr>\n",
       "      <th>0</th>\n",
       "      <td>nice hotel expensive parking got good deal sta...</td>\n",
       "      <td>4</td>\n",
       "    </tr>\n",
       "    <tr>\n",
       "      <th>1</th>\n",
       "      <td>ok nothing special charge diamond member hilto...</td>\n",
       "      <td>2</td>\n",
       "    </tr>\n",
       "    <tr>\n",
       "      <th>2</th>\n",
       "      <td>nice rooms not 4* experience hotel monaco seat...</td>\n",
       "      <td>3</td>\n",
       "    </tr>\n",
       "    <tr>\n",
       "      <th>3</th>\n",
       "      <td>unique, great stay, wonderful time hotel monac...</td>\n",
       "      <td>5</td>\n",
       "    </tr>\n",
       "    <tr>\n",
       "      <th>4</th>\n",
       "      <td>great stay great stay, went seahawk game aweso...</td>\n",
       "      <td>5</td>\n",
       "    </tr>\n",
       "    <tr>\n",
       "      <th>5</th>\n",
       "      <td>love monaco staff husband stayed hotel crazy w...</td>\n",
       "      <td>5</td>\n",
       "    </tr>\n",
       "    <tr>\n",
       "      <th>6</th>\n",
       "      <td>cozy stay rainy city, husband spent 7 nights m...</td>\n",
       "      <td>5</td>\n",
       "    </tr>\n",
       "    <tr>\n",
       "      <th>7</th>\n",
       "      <td>excellent staff, housekeeping quality hotel ch...</td>\n",
       "      <td>4</td>\n",
       "    </tr>\n",
       "    <tr>\n",
       "      <th>8</th>\n",
       "      <td>hotel stayed hotel monaco cruise, rooms genero...</td>\n",
       "      <td>5</td>\n",
       "    </tr>\n",
       "    <tr>\n",
       "      <th>9</th>\n",
       "      <td>excellent stayed hotel monaco past w/e delight...</td>\n",
       "      <td>5</td>\n",
       "    </tr>\n",
       "  </tbody>\n",
       "</table>\n",
       "</div>\n",
       "      <button class=\"colab-df-convert\" onclick=\"convertToInteractive('df-8ac22de9-a80b-4212-b198-664a4b38d870')\"\n",
       "              title=\"Convert this dataframe to an interactive table.\"\n",
       "              style=\"display:none;\">\n",
       "        \n",
       "  <svg xmlns=\"http://www.w3.org/2000/svg\" height=\"24px\"viewBox=\"0 0 24 24\"\n",
       "       width=\"24px\">\n",
       "    <path d=\"M0 0h24v24H0V0z\" fill=\"none\"/>\n",
       "    <path d=\"M18.56 5.44l.94 2.06.94-2.06 2.06-.94-2.06-.94-.94-2.06-.94 2.06-2.06.94zm-11 1L8.5 8.5l.94-2.06 2.06-.94-2.06-.94L8.5 2.5l-.94 2.06-2.06.94zm10 10l.94 2.06.94-2.06 2.06-.94-2.06-.94-.94-2.06-.94 2.06-2.06.94z\"/><path d=\"M17.41 7.96l-1.37-1.37c-.4-.4-.92-.59-1.43-.59-.52 0-1.04.2-1.43.59L10.3 9.45l-7.72 7.72c-.78.78-.78 2.05 0 2.83L4 21.41c.39.39.9.59 1.41.59.51 0 1.02-.2 1.41-.59l7.78-7.78 2.81-2.81c.8-.78.8-2.07 0-2.86zM5.41 20L4 18.59l7.72-7.72 1.47 1.35L5.41 20z\"/>\n",
       "  </svg>\n",
       "      </button>\n",
       "      \n",
       "  <style>\n",
       "    .colab-df-container {\n",
       "      display:flex;\n",
       "      flex-wrap:wrap;\n",
       "      gap: 12px;\n",
       "    }\n",
       "\n",
       "    .colab-df-convert {\n",
       "      background-color: #E8F0FE;\n",
       "      border: none;\n",
       "      border-radius: 50%;\n",
       "      cursor: pointer;\n",
       "      display: none;\n",
       "      fill: #1967D2;\n",
       "      height: 32px;\n",
       "      padding: 0 0 0 0;\n",
       "      width: 32px;\n",
       "    }\n",
       "\n",
       "    .colab-df-convert:hover {\n",
       "      background-color: #E2EBFA;\n",
       "      box-shadow: 0px 1px 2px rgba(60, 64, 67, 0.3), 0px 1px 3px 1px rgba(60, 64, 67, 0.15);\n",
       "      fill: #174EA6;\n",
       "    }\n",
       "\n",
       "    [theme=dark] .colab-df-convert {\n",
       "      background-color: #3B4455;\n",
       "      fill: #D2E3FC;\n",
       "    }\n",
       "\n",
       "    [theme=dark] .colab-df-convert:hover {\n",
       "      background-color: #434B5C;\n",
       "      box-shadow: 0px 1px 3px 1px rgba(0, 0, 0, 0.15);\n",
       "      filter: drop-shadow(0px 1px 2px rgba(0, 0, 0, 0.3));\n",
       "      fill: #FFFFFF;\n",
       "    }\n",
       "  </style>\n",
       "\n",
       "      <script>\n",
       "        const buttonEl =\n",
       "          document.querySelector('#df-8ac22de9-a80b-4212-b198-664a4b38d870 button.colab-df-convert');\n",
       "        buttonEl.style.display =\n",
       "          google.colab.kernel.accessAllowed ? 'block' : 'none';\n",
       "\n",
       "        async function convertToInteractive(key) {\n",
       "          const element = document.querySelector('#df-8ac22de9-a80b-4212-b198-664a4b38d870');\n",
       "          const dataTable =\n",
       "            await google.colab.kernel.invokeFunction('convertToInteractive',\n",
       "                                                     [key], {});\n",
       "          if (!dataTable) return;\n",
       "\n",
       "          const docLinkHtml = 'Like what you see? Visit the ' +\n",
       "            '<a target=\"_blank\" href=https://colab.research.google.com/notebooks/data_table.ipynb>data table notebook</a>'\n",
       "            + ' to learn more about interactive tables.';\n",
       "          element.innerHTML = '';\n",
       "          dataTable['output_type'] = 'display_data';\n",
       "          await google.colab.output.renderOutput(dataTable, element);\n",
       "          const docLink = document.createElement('div');\n",
       "          docLink.innerHTML = docLinkHtml;\n",
       "          element.appendChild(docLink);\n",
       "        }\n",
       "      </script>\n",
       "    </div>\n",
       "  </div>\n",
       "  "
      ],
      "text/plain": [
       "                                              Review  Rating\n",
       "0  nice hotel expensive parking got good deal sta...       4\n",
       "1  ok nothing special charge diamond member hilto...       2\n",
       "2  nice rooms not 4* experience hotel monaco seat...       3\n",
       "3  unique, great stay, wonderful time hotel monac...       5\n",
       "4  great stay great stay, went seahawk game aweso...       5\n",
       "5  love monaco staff husband stayed hotel crazy w...       5\n",
       "6  cozy stay rainy city, husband spent 7 nights m...       5\n",
       "7  excellent staff, housekeeping quality hotel ch...       4\n",
       "8  hotel stayed hotel monaco cruise, rooms genero...       5\n",
       "9  excellent stayed hotel monaco past w/e delight...       5"
      ]
     },
     "execution_count": 3,
     "metadata": {},
     "output_type": "execute_result"
    }
   ],
   "source": [
    "data = pd.read_csv('data.csv')\n",
    "data.head(10)"
   ]
  },
  {
   "cell_type": "markdown",
   "id": "0efbd258",
   "metadata": {
    "id": "0efbd258",
    "papermill": {
     "duration": 0.007635,
     "end_time": "2023-03-08T07:36:40.329557",
     "exception": false,
     "start_time": "2023-03-08T07:36:40.321922",
     "status": "completed"
    },
    "tags": []
   },
   "source": [
    "Now that we have our data, we can begin with the EDA.<br>**But first**, we need to transform the 'Rating' column to binary labels"
   ]
  },
  {
   "cell_type": "markdown",
   "id": "JhzxVo5hJGaa",
   "metadata": {
    "id": "JhzxVo5hJGaa"
   },
   "source": [
    "This code will count the number of occurrences of each unique value in the 'Rating' column of the 'data' dataset"
   ]
  },
  {
   "cell_type": "code",
   "execution_count": 4,
   "id": "83d2b21e",
   "metadata": {
    "colab": {
     "base_uri": "https://localhost:8080/"
    },
    "execution": {
     "iopub.execute_input": "2023-03-08T07:36:40.346360Z",
     "iopub.status.busy": "2023-03-08T07:36:40.346072Z",
     "iopub.status.idle": "2023-03-08T07:36:40.357658Z",
     "shell.execute_reply": "2023-03-08T07:36:40.356700Z"
    },
    "executionInfo": {
     "elapsed": 470,
     "status": "ok",
     "timestamp": 1681235558715,
     "user": {
      "displayName": "Hồ Tuấn Long",
      "userId": "17493867880430202716"
     },
     "user_tz": -420
    },
    "id": "83d2b21e",
    "outputId": "96b0309e-e55a-4fa3-fc10-a5128e37b1d9",
    "papermill": {
     "duration": 0.022208,
     "end_time": "2023-03-08T07:36:40.359659",
     "exception": false,
     "start_time": "2023-03-08T07:36:40.337451",
     "status": "completed"
    },
    "tags": []
   },
   "outputs": [
    {
     "data": {
      "text/plain": [
       "5    9054\n",
       "4    6039\n",
       "3    2184\n",
       "2    1793\n",
       "1    1421\n",
       "Name: Rating, dtype: int64"
      ]
     },
     "execution_count": 4,
     "metadata": {},
     "output_type": "execute_result"
    }
   ],
   "source": [
    "data['Rating'].value_counts()"
   ]
  },
  {
   "cell_type": "markdown",
   "id": "BG2iPv-iJKc7",
   "metadata": {
    "id": "BG2iPv-iJKc7"
   },
   "source": [
    "This is a function that takes a rating value and returns \"Positive\" if the rating is between 4 and 5 inclusive, or \"Negative\" if it is between 1 and 3 inclusive.\n",
    "\n",
    "\n",
    "\n",
    "\n"
   ]
  },
  {
   "cell_type": "code",
   "execution_count": 5,
   "id": "565b0b1c",
   "metadata": {
    "execution": {
     "iopub.execute_input": "2023-03-08T07:36:40.376715Z",
     "iopub.status.busy": "2023-03-08T07:36:40.376453Z",
     "iopub.status.idle": "2023-03-08T07:36:40.382234Z",
     "shell.execute_reply": "2023-03-08T07:36:40.381367Z"
    },
    "executionInfo": {
     "elapsed": 300,
     "status": "ok",
     "timestamp": 1681235562586,
     "user": {
      "displayName": "Hồ Tuấn Long",
      "userId": "17493867880430202716"
     },
     "user_tz": -420
    },
    "id": "565b0b1c",
    "papermill": {
     "duration": 0.016476,
     "end_time": "2023-03-08T07:36:40.384204",
     "exception": false,
     "start_time": "2023-03-08T07:36:40.367728",
     "status": "completed"
    },
    "tags": []
   },
   "outputs": [],
   "source": [
    "# rating 4, 5 => Positive; 1, 2, 3 => Negative\n",
    "def ratings(rating):\n",
    "    if rating>3 and rating<=5:\n",
    "        return \"Positive\"\n",
    "    if rating>0 and rating<=3:\n",
    "        return \"Negative\""
   ]
  },
  {
   "cell_type": "markdown",
   "id": "7uXdM8BOJOK3",
   "metadata": {
    "id": "7uXdM8BOJOK3"
   },
   "source": [
    "This code applies the ratings() function to the Rating column of the data dataframe, which maps ratings from 1 to 3 to \"Negative\" and ratings from 4 to 5 to \"Positive\". Then it creates a pie chart showing the percentage of positive and negative ratings in the data.\n",
    "\n",
    "\n",
    "\n",
    "\n"
   ]
  },
  {
   "cell_type": "code",
   "execution_count": 6,
   "id": "a96327f1",
   "metadata": {
    "colab": {
     "base_uri": "https://localhost:8080/",
     "height": 576
    },
    "execution": {
     "iopub.execute_input": "2023-03-08T07:36:40.402288Z",
     "iopub.status.busy": "2023-03-08T07:36:40.402013Z",
     "iopub.status.idle": "2023-03-08T07:36:40.554692Z",
     "shell.execute_reply": "2023-03-08T07:36:40.553438Z"
    },
    "executionInfo": {
     "elapsed": 1422,
     "status": "ok",
     "timestamp": 1681235566145,
     "user": {
      "displayName": "Hồ Tuấn Long",
      "userId": "17493867880430202716"
     },
     "user_tz": -420
    },
    "id": "a96327f1",
    "outputId": "6c63d424-aa23-42ed-9733-ddab8d3d27ac",
    "papermill": {
     "duration": 0.165591,
     "end_time": "2023-03-08T07:36:40.558436",
     "exception": false,
     "start_time": "2023-03-08T07:36:40.392845",
     "status": "completed"
    },
    "tags": []
   },
   "outputs": [
    {
     "data": {
      "image/png": "[encoded data removed]",
      "text/plain": [
       "<Figure size 1700x700 with 1 Axes>"
      ]
     },
     "metadata": {},
     "output_type": "display_data"
    }
   ],
   "source": [
    "data['Rating'] = data['Rating'].apply(ratings)\n",
    "plt.pie(data['Rating'].value_counts(), labels=data['Rating'].unique().tolist(), autopct='%1.1f%%')\n",
    "plt.show()"
   ]
  },
  {
   "cell_type": "markdown",
   "id": "89caaeac",
   "metadata": {
    "id": "89caaeac",
    "papermill": {
     "duration": 0.021389,
     "end_time": "2023-03-08T07:36:40.602174",
     "exception": false,
     "start_time": "2023-03-08T07:36:40.580785",
     "status": "completed"
    },
    "tags": []
   },
   "source": [
    "## Exploratory Data Analysis\n",
    " \n",
    "### Counts and Lenght:\n",
    "Start by checking how long the reviews are\n",
    "* Character count\n",
    "* Word count\n",
    "* Mean word length\n",
    "* Mean sentence length"
   ]
  },
  {
   "cell_type": "markdown",
   "id": "65nfZKoqJRfp",
   "metadata": {
    "id": "65nfZKoqJRfp"
   },
   "source": [
    "this code count and print length of a sample review"
   ]
  },
  {
   "cell_type": "code",
   "execution_count": 7,
   "id": "71e2c135",
   "metadata": {
    "colab": {
     "base_uri": "https://localhost:8080/"
    },
    "execution": {
     "iopub.execute_input": "2023-03-08T07:36:40.635979Z",
     "iopub.status.busy": "2023-03-08T07:36:40.635700Z",
     "iopub.status.idle": "2023-03-08T07:36:40.641101Z",
     "shell.execute_reply": "2023-03-08T07:36:40.639895Z"
    },
    "executionInfo": {
     "elapsed": 403,
     "status": "ok",
     "timestamp": 1681235570211,
     "user": {
      "displayName": "Hồ Tuấn Long",
      "userId": "17493867880430202716"
     },
     "user_tz": -420
    },
    "id": "71e2c135",
    "outputId": "72411dcd-20cd-437b-86d0-6795560344a0",
    "papermill": {
     "duration": 0.021251,
     "end_time": "2023-03-08T07:36:40.644703",
     "exception": false,
     "start_time": "2023-03-08T07:36:40.623452",
     "status": "completed"
    },
    "tags": []
   },
   "outputs": [
    {
     "name": "stdout",
     "output_type": "stream",
     "text": [
      "Length of a sample review: 593\n"
     ]
    }
   ],
   "source": [
    "lenght = len(data['Review'][0])\n",
    "print(f'Length of a sample review: {lenght}')"
   ]
  },
  {
   "cell_type": "markdown",
   "id": "rd6wNWqVJXGu",
   "metadata": {
    "id": "rd6wNWqVJXGu"
   },
   "source": [
    "This code creates a new column 'Length' in the dataframe 'data' containing the number of characters in each review, and displays the first 10 rows of the updated dataframe using the .head() method.\n",
    "\n",
    "\n",
    "\n",
    "\n"
   ]
  },
  {
   "cell_type": "code",
   "execution_count": 8,
   "id": "8ffd5487",
   "metadata": {
    "_kg_hide-output": true,
    "colab": {
     "base_uri": "https://localhost:8080/",
     "height": 363
    },
    "execution": {
     "iopub.execute_input": "2023-03-08T07:36:40.662183Z",
     "iopub.status.busy": "2023-03-08T07:36:40.661909Z",
     "iopub.status.idle": "2023-03-08T07:36:40.683268Z",
     "shell.execute_reply": "2023-03-08T07:36:40.682229Z"
    },
    "executionInfo": {
     "elapsed": 6,
     "status": "ok",
     "timestamp": 1681235571955,
     "user": {
      "displayName": "Hồ Tuấn Long",
      "userId": "17493867880430202716"
     },
     "user_tz": -420
    },
    "id": "8ffd5487",
    "outputId": "9737988a-d966-491f-cd9e-b72d352efc6b",
    "papermill": {
     "duration": 0.032764,
     "end_time": "2023-03-08T07:36:40.685598",
     "exception": false,
     "start_time": "2023-03-08T07:36:40.652834",
     "status": "completed"
    },
    "tags": []
   },
   "outputs": [
    {
     "data": {
      "text/html": [
       "\n",
       "  <div id=\"df-2965a701-74fe-491b-8041-d2f8a6680554\">\n",
       "    <div class=\"colab-df-container\">\n",
       "      <div>\n",
       "<style scoped>\n",
       "    .dataframe tbody tr th:only-of-type {\n",
       "        vertical-align: middle;\n",
       "    }\n",
       "\n",
       "    .dataframe tbody tr th {\n",
       "        vertical-align: top;\n",
       "    }\n",
       "\n",
       "    .dataframe thead th {\n",
       "        text-align: right;\n",
       "    }\n",
       "</style>\n",
       "<table border=\"1\" class=\"dataframe\">\n",
       "  <thead>\n",
       "    <tr style=\"text-align: right;\">\n",
       "      <th></th>\n",
       "      <th>Review</th>\n",
       "      <th>Rating</th>\n",
       "      <th>Length</th>\n",
       "    </tr>\n",
       "  </thead>\n",
       "  <tbody>\n",
       "    <tr>\n",
       "      <th>0</th>\n",
       "      <td>nice hotel expensive parking got good deal sta...</td>\n",
       "      <td>Positive</td>\n",
       "      <td>593</td>\n",
       "    </tr>\n",
       "    <tr>\n",
       "      <th>1</th>\n",
       "      <td>ok nothing special charge diamond member hilto...</td>\n",
       "      <td>Negative</td>\n",
       "      <td>1689</td>\n",
       "    </tr>\n",
       "    <tr>\n",
       "      <th>2</th>\n",
       "      <td>nice rooms not 4* experience hotel monaco seat...</td>\n",
       "      <td>Negative</td>\n",
       "      <td>1427</td>\n",
       "    </tr>\n",
       "    <tr>\n",
       "      <th>3</th>\n",
       "      <td>unique, great stay, wonderful time hotel monac...</td>\n",
       "      <td>Positive</td>\n",
       "      <td>600</td>\n",
       "    </tr>\n",
       "    <tr>\n",
       "      <th>4</th>\n",
       "      <td>great stay great stay, went seahawk game aweso...</td>\n",
       "      <td>Positive</td>\n",
       "      <td>1281</td>\n",
       "    </tr>\n",
       "    <tr>\n",
       "      <th>5</th>\n",
       "      <td>love monaco staff husband stayed hotel crazy w...</td>\n",
       "      <td>Positive</td>\n",
       "      <td>1002</td>\n",
       "    </tr>\n",
       "    <tr>\n",
       "      <th>6</th>\n",
       "      <td>cozy stay rainy city, husband spent 7 nights m...</td>\n",
       "      <td>Positive</td>\n",
       "      <td>748</td>\n",
       "    </tr>\n",
       "    <tr>\n",
       "      <th>7</th>\n",
       "      <td>excellent staff, housekeeping quality hotel ch...</td>\n",
       "      <td>Positive</td>\n",
       "      <td>597</td>\n",
       "    </tr>\n",
       "    <tr>\n",
       "      <th>8</th>\n",
       "      <td>hotel stayed hotel monaco cruise, rooms genero...</td>\n",
       "      <td>Positive</td>\n",
       "      <td>419</td>\n",
       "    </tr>\n",
       "    <tr>\n",
       "      <th>9</th>\n",
       "      <td>excellent stayed hotel monaco past w/e delight...</td>\n",
       "      <td>Positive</td>\n",
       "      <td>271</td>\n",
       "    </tr>\n",
       "  </tbody>\n",
       "</table>\n",
       "</div>\n",
       "      <button class=\"colab-df-convert\" onclick=\"convertToInteractive('df-2965a701-74fe-491b-8041-d2f8a6680554')\"\n",
       "              title=\"Convert this dataframe to an interactive table.\"\n",
       "              style=\"display:none;\">\n",
       "        \n",
       "  <svg xmlns=\"http://www.w3.org/2000/svg\" height=\"24px\"viewBox=\"0 0 24 24\"\n",
       "       width=\"24px\">\n",
       "    <path d=\"M0 0h24v24H0V0z\" fill=\"none\"/>\n",
       "    <path d=\"M18.56 5.44l.94 2.06.94-2.06 2.06-.94-2.06-.94-.94-2.06-.94 2.06-2.06.94zm-11 1L8.5 8.5l.94-2.06 2.06-.94-2.06-.94L8.5 2.5l-.94 2.06-2.06.94zm10 10l.94 2.06.94-2.06 2.06-.94-2.06-.94-.94-2.06-.94 2.06-2.06.94z\"/><path d=\"M17.41 7.96l-1.37-1.37c-.4-.4-.92-.59-1.43-.59-.52 0-1.04.2-1.43.59L10.3 9.45l-7.72 7.72c-.78.78-.78 2.05 0 2.83L4 21.41c.39.39.9.59 1.41.59.51 0 1.02-.2 1.41-.59l7.78-7.78 2.81-2.81c.8-.78.8-2.07 0-2.86zM5.41 20L4 18.59l7.72-7.72 1.47 1.35L5.41 20z\"/>\n",
       "  </svg>\n",
       "      </button>\n",
       "      \n",
       "  <style>\n",
       "    .colab-df-container {\n",
       "      display:flex;\n",
       "      flex-wrap:wrap;\n",
       "      gap: 12px;\n",
       "    }\n",
       "\n",
       "    .colab-df-convert {\n",
       "      background-color: #E8F0FE;\n",
       "      border: none;\n",
       "      border-radius: 50%;\n",
       "      cursor: pointer;\n",
       "      display: none;\n",
       "      fill: #1967D2;\n",
       "      height: 32px;\n",
       "      padding: 0 0 0 0;\n",
       "      width: 32px;\n",
       "    }\n",
       "\n",
       "    .colab-df-convert:hover {\n",
       "      background-color: #E2EBFA;\n",
       "      box-shadow: 0px 1px 2px rgba(60, 64, 67, 0.3), 0px 1px 3px 1px rgba(60, 64, 67, 0.15);\n",
       "      fill: #174EA6;\n",
       "    }\n",
       "\n",
       "    [theme=dark] .colab-df-convert {\n",
       "      background-color: #3B4455;\n",
       "      fill: #D2E3FC;\n",
       "    }\n",
       "\n",
       "    [theme=dark] .colab-df-convert:hover {\n",
       "      background-color: #434B5C;\n",
       "      box-shadow: 0px 1px 3px 1px rgba(0, 0, 0, 0.15);\n",
       "      filter: drop-shadow(0px 1px 2px rgba(0, 0, 0, 0.3));\n",
       "      fill: #FFFFFF;\n",
       "    }\n",
       "  </style>\n",
       "\n",
       "      <script>\n",
       "        const buttonEl =\n",
       "          document.querySelector('#df-2965a701-74fe-491b-8041-d2f8a6680554 button.colab-df-convert');\n",
       "        buttonEl.style.display =\n",
       "          google.colab.kernel.accessAllowed ? 'block' : 'none';\n",
       "\n",
       "        async function convertToInteractive(key) {\n",
       "          const element = document.querySelector('#df-2965a701-74fe-491b-8041-d2f8a6680554');\n",
       "          const dataTable =\n",
       "            await google.colab.kernel.invokeFunction('convertToInteractive',\n",
       "                                                     [key], {});\n",
       "          if (!dataTable) return;\n",
       "\n",
       "          const docLinkHtml = 'Like what you see? Visit the ' +\n",
       "            '<a target=\"_blank\" href=https://colab.research.google.com/notebooks/data_table.ipynb>data table notebook</a>'\n",
       "            + ' to learn more about interactive tables.';\n",
       "          element.innerHTML = '';\n",
       "          dataTable['output_type'] = 'display_data';\n",
       "          await google.colab.output.renderOutput(dataTable, element);\n",
       "          const docLink = document.createElement('div');\n",
       "          docLink.innerHTML = docLinkHtml;\n",
       "          element.appendChild(docLink);\n",
       "        }\n",
       "      </script>\n",
       "    </div>\n",
       "  </div>\n",
       "  "
      ],
      "text/plain": [
       "                                              Review    Rating  Length\n",
       "0  nice hotel expensive parking got good deal sta...  Positive     593\n",
       "1  ok nothing special charge diamond member hilto...  Negative    1689\n",
       "2  nice rooms not 4* experience hotel monaco seat...  Negative    1427\n",
       "3  unique, great stay, wonderful time hotel monac...  Positive     600\n",
       "4  great stay great stay, went seahawk game aweso...  Positive    1281\n",
       "5  love monaco staff husband stayed hotel crazy w...  Positive    1002\n",
       "6  cozy stay rainy city, husband spent 7 nights m...  Positive     748\n",
       "7  excellent staff, housekeeping quality hotel ch...  Positive     597\n",
       "8  hotel stayed hotel monaco cruise, rooms genero...  Positive     419\n",
       "9  excellent stayed hotel monaco past w/e delight...  Positive     271"
      ]
     },
     "execution_count": 8,
     "metadata": {},
     "output_type": "execute_result"
    }
   ],
   "source": [
    "data['Length'] = data['Review'].str.len()\n",
    "data.head(10)"
   ]
  },
  {
   "cell_type": "markdown",
   "id": "a7d2f568",
   "metadata": {
    "id": "a7d2f568",
    "papermill": {
     "duration": 0.008515,
     "end_time": "2023-03-08T07:36:40.702772",
     "exception": false,
     "start_time": "2023-03-08T07:36:40.694257",
     "status": "completed"
    },
    "tags": []
   },
   "source": [
    "#### **Word Count**: Number of words in a review"
   ]
  },
  {
   "cell_type": "markdown",
   "id": "syL9ZkQWJevW",
   "metadata": {
    "id": "syL9ZkQWJevW"
   },
   "source": [
    "This code block counts the number of words in the first review of the dataset and prints the result.\n",
    "\n",
    "\n",
    "\n",
    "\n"
   ]
  },
  {
   "cell_type": "code",
   "execution_count": 9,
   "id": "b47525a8",
   "metadata": {
    "colab": {
     "base_uri": "https://localhost:8080/"
    },
    "execution": {
     "iopub.execute_input": "2023-03-08T07:36:40.721217Z",
     "iopub.status.busy": "2023-03-08T07:36:40.720949Z",
     "iopub.status.idle": "2023-03-08T07:36:40.726117Z",
     "shell.execute_reply": "2023-03-08T07:36:40.725177Z"
    },
    "executionInfo": {
     "elapsed": 383,
     "status": "ok",
     "timestamp": 1681235576165,
     "user": {
      "displayName": "Hồ Tuấn Long",
      "userId": "17493867880430202716"
     },
     "user_tz": -420
    },
    "id": "b47525a8",
    "outputId": "07e35951-568e-424f-a6d0-c98ad03c40ce",
    "papermill": {
     "duration": 0.016647,
     "end_time": "2023-03-08T07:36:40.728288",
     "exception": false,
     "start_time": "2023-03-08T07:36:40.711641",
     "status": "completed"
    },
    "tags": []
   },
   "outputs": [
    {
     "name": "stdout",
     "output_type": "stream",
     "text": [
      "Word count in a sample review: 87\n"
     ]
    }
   ],
   "source": [
    "word_count = data['Review'][0].split()\n",
    "print(f'Word count in a sample review: {len(word_count)}')"
   ]
  },
  {
   "cell_type": "markdown",
   "id": "bkgZeJMSJikD",
   "metadata": {
    "id": "bkgZeJMSJikD"
   },
   "source": [
    "This code defines a function named word_count that takes a review string as input, splits it into a list of words, and returns the length of the list"
   ]
  },
  {
   "cell_type": "code",
   "execution_count": 10,
   "id": "2b04e5ff",
   "metadata": {
    "execution": {
     "iopub.execute_input": "2023-03-08T07:36:40.747430Z",
     "iopub.status.busy": "2023-03-08T07:36:40.746673Z",
     "iopub.status.idle": "2023-03-08T07:36:40.751307Z",
     "shell.execute_reply": "2023-03-08T07:36:40.750427Z"
    },
    "executionInfo": {
     "elapsed": 287,
     "status": "ok",
     "timestamp": 1681235578084,
     "user": {
      "displayName": "Hồ Tuấn Long",
      "userId": "17493867880430202716"
     },
     "user_tz": -420
    },
    "id": "2b04e5ff",
    "papermill": {
     "duration": 0.016091,
     "end_time": "2023-03-08T07:36:40.753327",
     "exception": false,
     "start_time": "2023-03-08T07:36:40.737236",
     "status": "completed"
    },
    "tags": []
   },
   "outputs": [],
   "source": [
    "def word_count(review):\n",
    "    review_list = review.split()\n",
    "    return len(review_list)"
   ]
  },
  {
   "cell_type": "markdown",
   "id": "f_bo1ZZuJpSR",
   "metadata": {
    "id": "f_bo1ZZuJpSR"
   },
   "source": [
    "This code block adds a new column 'Word_count' to the DataFrame 'data'. The column contains the word count of each review in the 'Review' column, which is calculated using the 'word_count' function"
   ]
  },
  {
   "cell_type": "code",
   "execution_count": 11,
   "id": "8e02fe6e",
   "metadata": {
    "_kg_hide-output": true,
    "colab": {
     "base_uri": "https://localhost:8080/",
     "height": 363
    },
    "execution": {
     "iopub.execute_input": "2023-03-08T07:36:40.771816Z",
     "iopub.status.busy": "2023-03-08T07:36:40.771523Z",
     "iopub.status.idle": "2023-03-08T07:36:40.902344Z",
     "shell.execute_reply": "2023-03-08T07:36:40.901279Z"
    },
    "executionInfo": {
     "elapsed": 546,
     "status": "ok",
     "timestamp": 1681235580339,
     "user": {
      "displayName": "Hồ Tuấn Long",
      "userId": "17493867880430202716"
     },
     "user_tz": -420
    },
    "id": "8e02fe6e",
    "outputId": "66697e24-974f-4275-9f44-5ed3c608c73e",
    "papermill": {
     "duration": 0.142883,
     "end_time": "2023-03-08T07:36:40.904743",
     "exception": false,
     "start_time": "2023-03-08T07:36:40.761860",
     "status": "completed"
    },
    "tags": []
   },
   "outputs": [
    {
     "data": {
      "text/html": [
       "\n",
       "  <div id=\"df-68146fa1-53c6-4f87-b133-99b7526f76fe\">\n",
       "    <div class=\"colab-df-container\">\n",
       "      <div>\n",
       "<style scoped>\n",
       "    .dataframe tbody tr th:only-of-type {\n",
       "        vertical-align: middle;\n",
       "    }\n",
       "\n",
       "    .dataframe tbody tr th {\n",
       "        vertical-align: top;\n",
       "    }\n",
       "\n",
       "    .dataframe thead th {\n",
       "        text-align: right;\n",
       "    }\n",
       "</style>\n",
       "<table border=\"1\" class=\"dataframe\">\n",
       "  <thead>\n",
       "    <tr style=\"text-align: right;\">\n",
       "      <th></th>\n",
       "      <th>Review</th>\n",
       "      <th>Rating</th>\n",
       "      <th>Length</th>\n",
       "      <th>Word_count</th>\n",
       "    </tr>\n",
       "  </thead>\n",
       "  <tbody>\n",
       "    <tr>\n",
       "      <th>0</th>\n",
       "      <td>nice hotel expensive parking got good deal sta...</td>\n",
       "      <td>Positive</td>\n",
       "      <td>593</td>\n",
       "      <td>87</td>\n",
       "    </tr>\n",
       "    <tr>\n",
       "      <th>1</th>\n",
       "      <td>ok nothing special charge diamond member hilto...</td>\n",
       "      <td>Negative</td>\n",
       "      <td>1689</td>\n",
       "      <td>250</td>\n",
       "    </tr>\n",
       "    <tr>\n",
       "      <th>2</th>\n",
       "      <td>nice rooms not 4* experience hotel monaco seat...</td>\n",
       "      <td>Negative</td>\n",
       "      <td>1427</td>\n",
       "      <td>217</td>\n",
       "    </tr>\n",
       "    <tr>\n",
       "      <th>3</th>\n",
       "      <td>unique, great stay, wonderful time hotel monac...</td>\n",
       "      <td>Positive</td>\n",
       "      <td>600</td>\n",
       "      <td>89</td>\n",
       "    </tr>\n",
       "    <tr>\n",
       "      <th>4</th>\n",
       "      <td>great stay great stay, went seahawk game aweso...</td>\n",
       "      <td>Positive</td>\n",
       "      <td>1281</td>\n",
       "      <td>191</td>\n",
       "    </tr>\n",
       "    <tr>\n",
       "      <th>5</th>\n",
       "      <td>love monaco staff husband stayed hotel crazy w...</td>\n",
       "      <td>Positive</td>\n",
       "      <td>1002</td>\n",
       "      <td>134</td>\n",
       "    </tr>\n",
       "    <tr>\n",
       "      <th>6</th>\n",
       "      <td>cozy stay rainy city, husband spent 7 nights m...</td>\n",
       "      <td>Positive</td>\n",
       "      <td>748</td>\n",
       "      <td>101</td>\n",
       "    </tr>\n",
       "    <tr>\n",
       "      <th>7</th>\n",
       "      <td>excellent staff, housekeeping quality hotel ch...</td>\n",
       "      <td>Positive</td>\n",
       "      <td>597</td>\n",
       "      <td>85</td>\n",
       "    </tr>\n",
       "    <tr>\n",
       "      <th>8</th>\n",
       "      <td>hotel stayed hotel monaco cruise, rooms genero...</td>\n",
       "      <td>Positive</td>\n",
       "      <td>419</td>\n",
       "      <td>59</td>\n",
       "    </tr>\n",
       "    <tr>\n",
       "      <th>9</th>\n",
       "      <td>excellent stayed hotel monaco past w/e delight...</td>\n",
       "      <td>Positive</td>\n",
       "      <td>271</td>\n",
       "      <td>35</td>\n",
       "    </tr>\n",
       "  </tbody>\n",
       "</table>\n",
       "</div>\n",
       "      <button class=\"colab-df-convert\" onclick=\"convertToInteractive('df-68146fa1-53c6-4f87-b133-99b7526f76fe')\"\n",
       "              title=\"Convert this dataframe to an interactive table.\"\n",
       "              style=\"display:none;\">\n",
       "        \n",
       "  <svg xmlns=\"http://www.w3.org/2000/svg\" height=\"24px\"viewBox=\"0 0 24 24\"\n",
       "       width=\"24px\">\n",
       "    <path d=\"M0 0h24v24H0V0z\" fill=\"none\"/>\n",
       "    <path d=\"M18.56 5.44l.94 2.06.94-2.06 2.06-.94-2.06-.94-.94-2.06-.94 2.06-2.06.94zm-11 1L8.5 8.5l.94-2.06 2.06-.94-2.06-.94L8.5 2.5l-.94 2.06-2.06.94zm10 10l.94 2.06.94-2.06 2.06-.94-2.06-.94-.94-2.06-.94 2.06-2.06.94z\"/><path d=\"M17.41 7.96l-1.37-1.37c-.4-.4-.92-.59-1.43-.59-.52 0-1.04.2-1.43.59L10.3 9.45l-7.72 7.72c-.78.78-.78 2.05 0 2.83L4 21.41c.39.39.9.59 1.41.59.51 0 1.02-.2 1.41-.59l7.78-7.78 2.81-2.81c.8-.78.8-2.07 0-2.86zM5.41 20L4 18.59l7.72-7.72 1.47 1.35L5.41 20z\"/>\n",
       "  </svg>\n",
       "      </button>\n",
       "      \n",
       "  <style>\n",
       "    .colab-df-container {\n",
       "      display:flex;\n",
       "      flex-wrap:wrap;\n",
       "      gap: 12px;\n",
       "    }\n",
       "\n",
       "    .colab-df-convert {\n",
       "      background-color: #E8F0FE;\n",
       "      border: none;\n",
       "      border-radius: 50%;\n",
       "      cursor: pointer;\n",
       "      display: none;\n",
       "      fill: #1967D2;\n",
       "      height: 32px;\n",
       "      padding: 0 0 0 0;\n",
       "      width: 32px;\n",
       "    }\n",
       "\n",
       "    .colab-df-convert:hover {\n",
       "      background-color: #E2EBFA;\n",
       "      box-shadow: 0px 1px 2px rgba(60, 64, 67, 0.3), 0px 1px 3px 1px rgba(60, 64, 67, 0.15);\n",
       "      fill: #174EA6;\n",
       "    }\n",
       "\n",
       "    [theme=dark] .colab-df-convert {\n",
       "      background-color: #3B4455;\n",
       "      fill: #D2E3FC;\n",
       "    }\n",
       "\n",
       "    [theme=dark] .colab-df-convert:hover {\n",
       "      background-color: #434B5C;\n",
       "      box-shadow: 0px 1px 3px 1px rgba(0, 0, 0, 0.15);\n",
       "      filter: drop-shadow(0px 1px 2px rgba(0, 0, 0, 0.3));\n",
       "      fill: #FFFFFF;\n",
       "    }\n",
       "  </style>\n",
       "\n",
       "      <script>\n",
       "        const buttonEl =\n",
       "          document.querySelector('#df-68146fa1-53c6-4f87-b133-99b7526f76fe button.colab-df-convert');\n",
       "        buttonEl.style.display =\n",
       "          google.colab.kernel.accessAllowed ? 'block' : 'none';\n",
       "\n",
       "        async function convertToInteractive(key) {\n",
       "          const element = document.querySelector('#df-68146fa1-53c6-4f87-b133-99b7526f76fe');\n",
       "          const dataTable =\n",
       "            await google.colab.kernel.invokeFunction('convertToInteractive',\n",
       "                                                     [key], {});\n",
       "          if (!dataTable) return;\n",
       "\n",
       "          const docLinkHtml = 'Like what you see? Visit the ' +\n",
       "            '<a target=\"_blank\" href=https://colab.research.google.com/notebooks/data_table.ipynb>data table notebook</a>'\n",
       "            + ' to learn more about interactive tables.';\n",
       "          element.innerHTML = '';\n",
       "          dataTable['output_type'] = 'display_data';\n",
       "          await google.colab.output.renderOutput(dataTable, element);\n",
       "          const docLink = document.createElement('div');\n",
       "          docLink.innerHTML = docLinkHtml;\n",
       "          element.appendChild(docLink);\n",
       "        }\n",
       "      </script>\n",
       "    </div>\n",
       "  </div>\n",
       "  "
      ],
      "text/plain": [
       "                                              Review    Rating  Length  \\\n",
       "0  nice hotel expensive parking got good deal sta...  Positive     593   \n",
       "1  ok nothing special charge diamond member hilto...  Negative    1689   \n",
       "2  nice rooms not 4* experience hotel monaco seat...  Negative    1427   \n",
       "3  unique, great stay, wonderful time hotel monac...  Positive     600   \n",
       "4  great stay great stay, went seahawk game aweso...  Positive    1281   \n",
       "5  love monaco staff husband stayed hotel crazy w...  Positive    1002   \n",
       "6  cozy stay rainy city, husband spent 7 nights m...  Positive     748   \n",
       "7  excellent staff, housekeeping quality hotel ch...  Positive     597   \n",
       "8  hotel stayed hotel monaco cruise, rooms genero...  Positive     419   \n",
       "9  excellent stayed hotel monaco past w/e delight...  Positive     271   \n",
       "\n",
       "   Word_count  \n",
       "0          87  \n",
       "1         250  \n",
       "2         217  \n",
       "3          89  \n",
       "4         191  \n",
       "5         134  \n",
       "6         101  \n",
       "7          85  \n",
       "8          59  \n",
       "9          35  "
      ]
     },
     "execution_count": 11,
     "metadata": {},
     "output_type": "execute_result"
    }
   ],
   "source": [
    "data['Word_count'] = data['Review'].apply(word_count)\n",
    "data.head(10)"
   ]
  },
  {
   "cell_type": "markdown",
   "id": "d926d1c1",
   "metadata": {
    "id": "d926d1c1",
    "papermill": {
     "duration": 0.009059,
     "end_time": "2023-03-08T07:36:40.923010",
     "exception": false,
     "start_time": "2023-03-08T07:36:40.913951",
     "status": "completed"
    },
    "tags": []
   },
   "source": [
    "#### **Mean word length**: Average length of words"
   ]
  },
  {
   "cell_type": "markdown",
   "id": "CGFHi4V8Jtu9",
   "metadata": {
    "id": "CGFHi4V8Jtu9"
   },
   "source": [
    "This code block calculates the mean word length for each review in the 'Review' column of the dataframe 'data' using a lambda function to split each review into individual words and then calculates the average length of each word. The resulting mean word lengths are added to a new column in the dataframe called 'mean_word_length'.\n",
    "\n",
    "\n",
    "\n",
    "\n"
   ]
  },
  {
   "cell_type": "code",
   "execution_count": 12,
   "id": "d12f4408",
   "metadata": {
    "_kg_hide-output": true,
    "colab": {
     "base_uri": "https://localhost:8080/",
     "height": 363
    },
    "execution": {
     "iopub.execute_input": "2023-03-08T07:36:40.943988Z",
     "iopub.status.busy": "2023-03-08T07:36:40.943181Z",
     "iopub.status.idle": "2023-03-08T07:36:41.576521Z",
     "shell.execute_reply": "2023-03-08T07:36:41.575418Z"
    },
    "executionInfo": {
     "elapsed": 1218,
     "status": "ok",
     "timestamp": 1681235584348,
     "user": {
      "displayName": "Hồ Tuấn Long",
      "userId": "17493867880430202716"
     },
     "user_tz": -420
    },
    "id": "d12f4408",
    "outputId": "54c2c18d-07b3-496c-f4c0-87424b0f4c48",
    "papermill": {
     "duration": 0.645939,
     "end_time": "2023-03-08T07:36:41.578844",
     "exception": false,
     "start_time": "2023-03-08T07:36:40.932905",
     "status": "completed"
    },
    "tags": []
   },
   "outputs": [
    {
     "data": {
      "text/html": [
       "\n",
       "  <div id=\"df-c65730c7-c967-4541-a696-02c586c92ff2\">\n",
       "    <div class=\"colab-df-container\">\n",
       "      <div>\n",
       "<style scoped>\n",
       "    .dataframe tbody tr th:only-of-type {\n",
       "        vertical-align: middle;\n",
       "    }\n",
       "\n",
       "    .dataframe tbody tr th {\n",
       "        vertical-align: top;\n",
       "    }\n",
       "\n",
       "    .dataframe thead th {\n",
       "        text-align: right;\n",
       "    }\n",
       "</style>\n",
       "<table border=\"1\" class=\"dataframe\">\n",
       "  <thead>\n",
       "    <tr style=\"text-align: right;\">\n",
       "      <th></th>\n",
       "      <th>Review</th>\n",
       "      <th>Rating</th>\n",
       "      <th>Length</th>\n",
       "      <th>Word_count</th>\n",
       "      <th>mean_word_length</th>\n",
       "    </tr>\n",
       "  </thead>\n",
       "  <tbody>\n",
       "    <tr>\n",
       "      <th>0</th>\n",
       "      <td>nice hotel expensive parking got good deal sta...</td>\n",
       "      <td>Positive</td>\n",
       "      <td>593</td>\n",
       "      <td>87</td>\n",
       "      <td>5.804598</td>\n",
       "    </tr>\n",
       "    <tr>\n",
       "      <th>1</th>\n",
       "      <td>ok nothing special charge diamond member hilto...</td>\n",
       "      <td>Negative</td>\n",
       "      <td>1689</td>\n",
       "      <td>250</td>\n",
       "      <td>5.752000</td>\n",
       "    </tr>\n",
       "    <tr>\n",
       "      <th>2</th>\n",
       "      <td>nice rooms not 4* experience hotel monaco seat...</td>\n",
       "      <td>Negative</td>\n",
       "      <td>1427</td>\n",
       "      <td>217</td>\n",
       "      <td>5.571429</td>\n",
       "    </tr>\n",
       "    <tr>\n",
       "      <th>3</th>\n",
       "      <td>unique, great stay, wonderful time hotel monac...</td>\n",
       "      <td>Positive</td>\n",
       "      <td>600</td>\n",
       "      <td>89</td>\n",
       "      <td>5.730337</td>\n",
       "    </tr>\n",
       "    <tr>\n",
       "      <th>4</th>\n",
       "      <td>great stay great stay, went seahawk game aweso...</td>\n",
       "      <td>Positive</td>\n",
       "      <td>1281</td>\n",
       "      <td>191</td>\n",
       "      <td>5.701571</td>\n",
       "    </tr>\n",
       "    <tr>\n",
       "      <th>5</th>\n",
       "      <td>love monaco staff husband stayed hotel crazy w...</td>\n",
       "      <td>Positive</td>\n",
       "      <td>1002</td>\n",
       "      <td>134</td>\n",
       "      <td>6.470149</td>\n",
       "    </tr>\n",
       "    <tr>\n",
       "      <th>6</th>\n",
       "      <td>cozy stay rainy city, husband spent 7 nights m...</td>\n",
       "      <td>Positive</td>\n",
       "      <td>748</td>\n",
       "      <td>101</td>\n",
       "      <td>6.396040</td>\n",
       "    </tr>\n",
       "    <tr>\n",
       "      <th>7</th>\n",
       "      <td>excellent staff, housekeeping quality hotel ch...</td>\n",
       "      <td>Positive</td>\n",
       "      <td>597</td>\n",
       "      <td>85</td>\n",
       "      <td>6.011765</td>\n",
       "    </tr>\n",
       "    <tr>\n",
       "      <th>8</th>\n",
       "      <td>hotel stayed hotel monaco cruise, rooms genero...</td>\n",
       "      <td>Positive</td>\n",
       "      <td>419</td>\n",
       "      <td>59</td>\n",
       "      <td>6.084746</td>\n",
       "    </tr>\n",
       "    <tr>\n",
       "      <th>9</th>\n",
       "      <td>excellent stayed hotel monaco past w/e delight...</td>\n",
       "      <td>Positive</td>\n",
       "      <td>271</td>\n",
       "      <td>35</td>\n",
       "      <td>6.714286</td>\n",
       "    </tr>\n",
       "  </tbody>\n",
       "</table>\n",
       "</div>\n",
       "      <button class=\"colab-df-convert\" onclick=\"convertToInteractive('df-c65730c7-c967-4541-a696-02c586c92ff2')\"\n",
       "              title=\"Convert this dataframe to an interactive table.\"\n",
       "              style=\"display:none;\">\n",
       "        \n",
       "  <svg xmlns=\"http://www.w3.org/2000/svg\" height=\"24px\"viewBox=\"0 0 24 24\"\n",
       "       width=\"24px\">\n",
       "    <path d=\"M0 0h24v24H0V0z\" fill=\"none\"/>\n",
       "    <path d=\"M18.56 5.44l.94 2.06.94-2.06 2.06-.94-2.06-.94-.94-2.06-.94 2.06-2.06.94zm-11 1L8.5 8.5l.94-2.06 2.06-.94-2.06-.94L8.5 2.5l-.94 2.06-2.06.94zm10 10l.94 2.06.94-2.06 2.06-.94-2.06-.94-.94-2.06-.94 2.06-2.06.94z\"/><path d=\"M17.41 7.96l-1.37-1.37c-.4-.4-.92-.59-1.43-.59-.52 0-1.04.2-1.43.59L10.3 9.45l-7.72 7.72c-.78.78-.78 2.05 0 2.83L4 21.41c.39.39.9.59 1.41.59.51 0 1.02-.2 1.41-.59l7.78-7.78 2.81-2.81c.8-.78.8-2.07 0-2.86zM5.41 20L4 18.59l7.72-7.72 1.47 1.35L5.41 20z\"/>\n",
       "  </svg>\n",
       "      </button>\n",
       "      \n",
       "  <style>\n",
       "    .colab-df-container {\n",
       "      display:flex;\n",
       "      flex-wrap:wrap;\n",
       "      gap: 12px;\n",
       "    }\n",
       "\n",
       "    .colab-df-convert {\n",
       "      background-color: #E8F0FE;\n",
       "      border: none;\n",
       "      border-radius: 50%;\n",
       "      cursor: pointer;\n",
       "      display: none;\n",
       "      fill: #1967D2;\n",
       "      height: 32px;\n",
       "      padding: 0 0 0 0;\n",
       "      width: 32px;\n",
       "    }\n",
       "\n",
       "    .colab-df-convert:hover {\n",
       "      background-color: #E2EBFA;\n",
       "      box-shadow: 0px 1px 2px rgba(60, 64, 67, 0.3), 0px 1px 3px 1px rgba(60, 64, 67, 0.15);\n",
       "      fill: #174EA6;\n",
       "    }\n",
       "\n",
       "    [theme=dark] .colab-df-convert {\n",
       "      background-color: #3B4455;\n",
       "      fill: #D2E3FC;\n",
       "    }\n",
       "\n",
       "    [theme=dark] .colab-df-convert:hover {\n",
       "      background-color: #434B5C;\n",
       "      box-shadow: 0px 1px 3px 1px rgba(0, 0, 0, 0.15);\n",
       "      filter: drop-shadow(0px 1px 2px rgba(0, 0, 0, 0.3));\n",
       "      fill: #FFFFFF;\n",
       "    }\n",
       "  </style>\n",
       "\n",
       "      <script>\n",
       "        const buttonEl =\n",
       "          document.querySelector('#df-c65730c7-c967-4541-a696-02c586c92ff2 button.colab-df-convert');\n",
       "        buttonEl.style.display =\n",
       "          google.colab.kernel.accessAllowed ? 'block' : 'none';\n",
       "\n",
       "        async function convertToInteractive(key) {\n",
       "          const element = document.querySelector('#df-c65730c7-c967-4541-a696-02c586c92ff2');\n",
       "          const dataTable =\n",
       "            await google.colab.kernel.invokeFunction('convertToInteractive',\n",
       "                                                     [key], {});\n",
       "          if (!dataTable) return;\n",
       "\n",
       "          const docLinkHtml = 'Like what you see? Visit the ' +\n",
       "            '<a target=\"_blank\" href=https://colab.research.google.com/notebooks/data_table.ipynb>data table notebook</a>'\n",
       "            + ' to learn more about interactive tables.';\n",
       "          element.innerHTML = '';\n",
       "          dataTable['output_type'] = 'display_data';\n",
       "          await google.colab.output.renderOutput(dataTable, element);\n",
       "          const docLink = document.createElement('div');\n",
       "          docLink.innerHTML = docLinkHtml;\n",
       "          element.appendChild(docLink);\n",
       "        }\n",
       "      </script>\n",
       "    </div>\n",
       "  </div>\n",
       "  "
      ],
      "text/plain": [
       "                                              Review    Rating  Length  \\\n",
       "0  nice hotel expensive parking got good deal sta...  Positive     593   \n",
       "1  ok nothing special charge diamond member hilto...  Negative    1689   \n",
       "2  nice rooms not 4* experience hotel monaco seat...  Negative    1427   \n",
       "3  unique, great stay, wonderful time hotel monac...  Positive     600   \n",
       "4  great stay great stay, went seahawk game aweso...  Positive    1281   \n",
       "5  love monaco staff husband stayed hotel crazy w...  Positive    1002   \n",
       "6  cozy stay rainy city, husband spent 7 nights m...  Positive     748   \n",
       "7  excellent staff, housekeeping quality hotel ch...  Positive     597   \n",
       "8  hotel stayed hotel monaco cruise, rooms genero...  Positive     419   \n",
       "9  excellent stayed hotel monaco past w/e delight...  Positive     271   \n",
       "\n",
       "   Word_count  mean_word_length  \n",
       "0          87          5.804598  \n",
       "1         250          5.752000  \n",
       "2         217          5.571429  \n",
       "3          89          5.730337  \n",
       "4         191          5.701571  \n",
       "5         134          6.470149  \n",
       "6         101          6.396040  \n",
       "7          85          6.011765  \n",
       "8          59          6.084746  \n",
       "9          35          6.714286  "
      ]
     },
     "execution_count": 12,
     "metadata": {},
     "output_type": "execute_result"
    }
   ],
   "source": [
    "data['mean_word_length'] = data['Review'].map(lambda rev: np.mean([len(word) for word in rev.split()]))\n",
    "data.head(10)"
   ]
  },
  {
   "cell_type": "markdown",
   "id": "30db4831",
   "metadata": {
    "id": "30db4831",
    "papermill": {
     "duration": 0.009151,
     "end_time": "2023-03-08T07:36:41.598093",
     "exception": false,
     "start_time": "2023-03-08T07:36:41.588942",
     "status": "completed"
    },
    "tags": []
   },
   "source": [
    "#### **Mean sentence length**: Average length of the sentences in the review"
   ]
  },
  {
   "cell_type": "markdown",
   "id": "dCcGv_A2J10-",
   "metadata": {
    "id": "dCcGv_A2J10-"
   },
   "source": [
    "This code downloads the \"punkt\" tokenizer from the Natural Language Toolkit (nltk) library. The \"punkt\" tokenizer is used to tokenize words from text data.\n",
    "\n",
    "\n",
    "\n",
    "\n"
   ]
  },
  {
   "cell_type": "code",
   "execution_count": 13,
   "id": "RuLh0ZHK1vEU",
   "metadata": {
    "colab": {
     "base_uri": "https://localhost:8080/"
    },
    "executionInfo": {
     "elapsed": 1233,
     "status": "ok",
     "timestamp": 1681235587569,
     "user": {
      "displayName": "Hồ Tuấn Long",
      "userId": "17493867880430202716"
     },
     "user_tz": -420
    },
    "id": "RuLh0ZHK1vEU",
    "outputId": "eb9842b6-b77b-4805-fc9e-1453db145c2e"
   },
   "outputs": [
    {
     "name": "stderr",
     "output_type": "stream",
     "text": [
      "[nltk_data] Downloading package punkt to /root/nltk_data...\n",
      "[nltk_data]   Package punkt is already up-to-date!\n"
     ]
    },
    {
     "data": {
      "text/plain": [
       "True"
      ]
     },
     "execution_count": 13,
     "metadata": {},
     "output_type": "execute_result"
    }
   ],
   "source": [
    "nltk.download('punkt')"
   ]
  },
  {
   "cell_type": "markdown",
   "id": "Qh-BcuplJ5av",
   "metadata": {
    "id": "Qh-BcuplJ5av"
   },
   "source": [
    "This code computes the mean sentence length in the first review in the dataset. It tokenizes the review into sentences using the sent_tokenize function from the NLTK library and then calculates the length of each sentence using a list comprehension. The np.mean function is then used to compute the mean of these sentence lengths.\n",
    "\n",
    "\n",
    "\n",
    "\n"
   ]
  },
  {
   "cell_type": "code",
   "execution_count": 14,
   "id": "5986473d",
   "metadata": {
    "colab": {
     "base_uri": "https://localhost:8080/"
    },
    "execution": {
     "iopub.execute_input": "2023-03-08T07:36:41.617596Z",
     "iopub.status.busy": "2023-03-08T07:36:41.616777Z",
     "iopub.status.idle": "2023-03-08T07:36:41.634740Z",
     "shell.execute_reply": "2023-03-08T07:36:41.633688Z"
    },
    "executionInfo": {
     "elapsed": 504,
     "status": "ok",
     "timestamp": 1681235590878,
     "user": {
      "displayName": "Hồ Tuấn Long",
      "userId": "17493867880430202716"
     },
     "user_tz": -420
    },
    "id": "5986473d",
    "outputId": "ccd157aa-e87a-4b95-db4e-ca00d0092085",
    "papermill": {
     "duration": 0.030112,
     "end_time": "2023-03-08T07:36:41.637127",
     "exception": false,
     "start_time": "2023-03-08T07:36:41.607015",
     "status": "completed"
    },
    "tags": []
   },
   "outputs": [
    {
     "data": {
      "text/plain": [
       "591.0"
      ]
     },
     "execution_count": 14,
     "metadata": {},
     "output_type": "execute_result"
    }
   ],
   "source": [
    "np.mean([len(sent) for sent in tokenize.sent_tokenize(data['Review'][0])])"
   ]
  },
  {
   "cell_type": "markdown",
   "id": "dPrVhaGFJ_Sy",
   "metadata": {
    "id": "dPrVhaGFJ_Sy"
   },
   "source": [
    "This code calculates the mean length of sentences for each review in the 'Review' column of the dataframe 'data', and adds the result to a new column named 'mean_sent_length'. The 'nltk.tokenize.sent_tokenize()' function is used to split each review into sentences.\n",
    "\n",
    "\n",
    "\n",
    "\n"
   ]
  },
  {
   "cell_type": "code",
   "execution_count": 15,
   "id": "2a005c23",
   "metadata": {
    "colab": {
     "base_uri": "https://localhost:8080/",
     "height": 363
    },
    "execution": {
     "iopub.execute_input": "2023-03-08T07:36:41.657012Z",
     "iopub.status.busy": "2023-03-08T07:36:41.656230Z",
     "iopub.status.idle": "2023-03-08T07:36:42.713876Z",
     "shell.execute_reply": "2023-03-08T07:36:42.712817Z"
    },
    "executionInfo": {
     "elapsed": 1623,
     "status": "ok",
     "timestamp": 1681235594163,
     "user": {
      "displayName": "Hồ Tuấn Long",
      "userId": "17493867880430202716"
     },
     "user_tz": -420
    },
    "id": "2a005c23",
    "outputId": "f77dd76e-7a07-4299-beda-09f063e8f7e2",
    "papermill": {
     "duration": 1.069916,
     "end_time": "2023-03-08T07:36:42.716033",
     "exception": false,
     "start_time": "2023-03-08T07:36:41.646117",
     "status": "completed"
    },
    "tags": []
   },
   "outputs": [
    {
     "data": {
      "text/html": [
       "\n",
       "  <div id=\"df-fd33dd73-7f3c-49c9-aa9c-03bf41b5d190\">\n",
       "    <div class=\"colab-df-container\">\n",
       "      <div>\n",
       "<style scoped>\n",
       "    .dataframe tbody tr th:only-of-type {\n",
       "        vertical-align: middle;\n",
       "    }\n",
       "\n",
       "    .dataframe tbody tr th {\n",
       "        vertical-align: top;\n",
       "    }\n",
       "\n",
       "    .dataframe thead th {\n",
       "        text-align: right;\n",
       "    }\n",
       "</style>\n",
       "<table border=\"1\" class=\"dataframe\">\n",
       "  <thead>\n",
       "    <tr style=\"text-align: right;\">\n",
       "      <th></th>\n",
       "      <th>Review</th>\n",
       "      <th>Rating</th>\n",
       "      <th>Length</th>\n",
       "      <th>Word_count</th>\n",
       "      <th>mean_word_length</th>\n",
       "      <th>mean_sent_length</th>\n",
       "    </tr>\n",
       "  </thead>\n",
       "  <tbody>\n",
       "    <tr>\n",
       "      <th>0</th>\n",
       "      <td>nice hotel expensive parking got good deal sta...</td>\n",
       "      <td>Positive</td>\n",
       "      <td>593</td>\n",
       "      <td>87</td>\n",
       "      <td>5.804598</td>\n",
       "      <td>591.0</td>\n",
       "    </tr>\n",
       "    <tr>\n",
       "      <th>1</th>\n",
       "      <td>ok nothing special charge diamond member hilto...</td>\n",
       "      <td>Negative</td>\n",
       "      <td>1689</td>\n",
       "      <td>250</td>\n",
       "      <td>5.752000</td>\n",
       "      <td>1687.0</td>\n",
       "    </tr>\n",
       "    <tr>\n",
       "      <th>2</th>\n",
       "      <td>nice rooms not 4* experience hotel monaco seat...</td>\n",
       "      <td>Negative</td>\n",
       "      <td>1427</td>\n",
       "      <td>217</td>\n",
       "      <td>5.571429</td>\n",
       "      <td>712.0</td>\n",
       "    </tr>\n",
       "    <tr>\n",
       "      <th>3</th>\n",
       "      <td>unique, great stay, wonderful time hotel monac...</td>\n",
       "      <td>Positive</td>\n",
       "      <td>600</td>\n",
       "      <td>89</td>\n",
       "      <td>5.730337</td>\n",
       "      <td>598.0</td>\n",
       "    </tr>\n",
       "    <tr>\n",
       "      <th>4</th>\n",
       "      <td>great stay great stay, went seahawk game aweso...</td>\n",
       "      <td>Positive</td>\n",
       "      <td>1281</td>\n",
       "      <td>191</td>\n",
       "      <td>5.701571</td>\n",
       "      <td>1279.0</td>\n",
       "    </tr>\n",
       "    <tr>\n",
       "      <th>5</th>\n",
       "      <td>love monaco staff husband stayed hotel crazy w...</td>\n",
       "      <td>Positive</td>\n",
       "      <td>1002</td>\n",
       "      <td>134</td>\n",
       "      <td>6.470149</td>\n",
       "      <td>1000.0</td>\n",
       "    </tr>\n",
       "    <tr>\n",
       "      <th>6</th>\n",
       "      <td>cozy stay rainy city, husband spent 7 nights m...</td>\n",
       "      <td>Positive</td>\n",
       "      <td>748</td>\n",
       "      <td>101</td>\n",
       "      <td>6.396040</td>\n",
       "      <td>746.0</td>\n",
       "    </tr>\n",
       "    <tr>\n",
       "      <th>7</th>\n",
       "      <td>excellent staff, housekeeping quality hotel ch...</td>\n",
       "      <td>Positive</td>\n",
       "      <td>597</td>\n",
       "      <td>85</td>\n",
       "      <td>6.011765</td>\n",
       "      <td>595.0</td>\n",
       "    </tr>\n",
       "    <tr>\n",
       "      <th>8</th>\n",
       "      <td>hotel stayed hotel monaco cruise, rooms genero...</td>\n",
       "      <td>Positive</td>\n",
       "      <td>419</td>\n",
       "      <td>59</td>\n",
       "      <td>6.084746</td>\n",
       "      <td>417.0</td>\n",
       "    </tr>\n",
       "    <tr>\n",
       "      <th>9</th>\n",
       "      <td>excellent stayed hotel monaco past w/e delight...</td>\n",
       "      <td>Positive</td>\n",
       "      <td>271</td>\n",
       "      <td>35</td>\n",
       "      <td>6.714286</td>\n",
       "      <td>269.0</td>\n",
       "    </tr>\n",
       "  </tbody>\n",
       "</table>\n",
       "</div>\n",
       "      <button class=\"colab-df-convert\" onclick=\"convertToInteractive('df-fd33dd73-7f3c-49c9-aa9c-03bf41b5d190')\"\n",
       "              title=\"Convert this dataframe to an interactive table.\"\n",
       "              style=\"display:none;\">\n",
       "        \n",
       "  <svg xmlns=\"http://www.w3.org/2000/svg\" height=\"24px\"viewBox=\"0 0 24 24\"\n",
       "       width=\"24px\">\n",
       "    <path d=\"M0 0h24v24H0V0z\" fill=\"none\"/>\n",
       "    <path d=\"M18.56 5.44l.94 2.06.94-2.06 2.06-.94-2.06-.94-.94-2.06-.94 2.06-2.06.94zm-11 1L8.5 8.5l.94-2.06 2.06-.94-2.06-.94L8.5 2.5l-.94 2.06-2.06.94zm10 10l.94 2.06.94-2.06 2.06-.94-2.06-.94-.94-2.06-.94 2.06-2.06.94z\"/><path d=\"M17.41 7.96l-1.37-1.37c-.4-.4-.92-.59-1.43-.59-.52 0-1.04.2-1.43.59L10.3 9.45l-7.72 7.72c-.78.78-.78 2.05 0 2.83L4 21.41c.39.39.9.59 1.41.59.51 0 1.02-.2 1.41-.59l7.78-7.78 2.81-2.81c.8-.78.8-2.07 0-2.86zM5.41 20L4 18.59l7.72-7.72 1.47 1.35L5.41 20z\"/>\n",
       "  </svg>\n",
       "      </button>\n",
       "      \n",
       "  <style>\n",
       "    .colab-df-container {\n",
       "      display:flex;\n",
       "      flex-wrap:wrap;\n",
       "      gap: 12px;\n",
       "    }\n",
       "\n",
       "    .colab-df-convert {\n",
       "      background-color: #E8F0FE;\n",
       "      border: none;\n",
       "      border-radius: 50%;\n",
       "      cursor: pointer;\n",
       "      display: none;\n",
       "      fill: #1967D2;\n",
       "      height: 32px;\n",
       "      padding: 0 0 0 0;\n",
       "      width: 32px;\n",
       "    }\n",
       "\n",
       "    .colab-df-convert:hover {\n",
       "      background-color: #E2EBFA;\n",
       "      box-shadow: 0px 1px 2px rgba(60, 64, 67, 0.3), 0px 1px 3px 1px rgba(60, 64, 67, 0.15);\n",
       "      fill: #174EA6;\n",
       "    }\n",
       "\n",
       "    [theme=dark] .colab-df-convert {\n",
       "      background-color: #3B4455;\n",
       "      fill: #D2E3FC;\n",
       "    }\n",
       "\n",
       "    [theme=dark] .colab-df-convert:hover {\n",
       "      background-color: #434B5C;\n",
       "      box-shadow: 0px 1px 3px 1px rgba(0, 0, 0, 0.15);\n",
       "      filter: drop-shadow(0px 1px 2px rgba(0, 0, 0, 0.3));\n",
       "      fill: #FFFFFF;\n",
       "    }\n",
       "  </style>\n",
       "\n",
       "      <script>\n",
       "        const buttonEl =\n",
       "          document.querySelector('#df-fd33dd73-7f3c-49c9-aa9c-03bf41b5d190 button.colab-df-convert');\n",
       "        buttonEl.style.display =\n",
       "          google.colab.kernel.accessAllowed ? 'block' : 'none';\n",
       "\n",
       "        async function convertToInteractive(key) {\n",
       "          const element = document.querySelector('#df-fd33dd73-7f3c-49c9-aa9c-03bf41b5d190');\n",
       "          const dataTable =\n",
       "            await google.colab.kernel.invokeFunction('convertToInteractive',\n",
       "                                                     [key], {});\n",
       "          if (!dataTable) return;\n",
       "\n",
       "          const docLinkHtml = 'Like what you see? Visit the ' +\n",
       "            '<a target=\"_blank\" href=https://colab.research.google.com/notebooks/data_table.ipynb>data table notebook</a>'\n",
       "            + ' to learn more about interactive tables.';\n",
       "          element.innerHTML = '';\n",
       "          dataTable['output_type'] = 'display_data';\n",
       "          await google.colab.output.renderOutput(dataTable, element);\n",
       "          const docLink = document.createElement('div');\n",
       "          docLink.innerHTML = docLinkHtml;\n",
       "          element.appendChild(docLink);\n",
       "        }\n",
       "      </script>\n",
       "    </div>\n",
       "  </div>\n",
       "  "
      ],
      "text/plain": [
       "                                              Review    Rating  Length  \\\n",
       "0  nice hotel expensive parking got good deal sta...  Positive     593   \n",
       "1  ok nothing special charge diamond member hilto...  Negative    1689   \n",
       "2  nice rooms not 4* experience hotel monaco seat...  Negative    1427   \n",
       "3  unique, great stay, wonderful time hotel monac...  Positive     600   \n",
       "4  great stay great stay, went seahawk game aweso...  Positive    1281   \n",
       "5  love monaco staff husband stayed hotel crazy w...  Positive    1002   \n",
       "6  cozy stay rainy city, husband spent 7 nights m...  Positive     748   \n",
       "7  excellent staff, housekeeping quality hotel ch...  Positive     597   \n",
       "8  hotel stayed hotel monaco cruise, rooms genero...  Positive     419   \n",
       "9  excellent stayed hotel monaco past w/e delight...  Positive     271   \n",
       "\n",
       "   Word_count  mean_word_length  mean_sent_length  \n",
       "0          87          5.804598             591.0  \n",
       "1         250          5.752000            1687.0  \n",
       "2         217          5.571429             712.0  \n",
       "3          89          5.730337             598.0  \n",
       "4         191          5.701571            1279.0  \n",
       "5         134          6.470149            1000.0  \n",
       "6         101          6.396040             746.0  \n",
       "7          85          6.011765             595.0  \n",
       "8          59          6.084746             417.0  \n",
       "9          35          6.714286             269.0  "
      ]
     },
     "execution_count": 15,
     "metadata": {},
     "output_type": "execute_result"
    }
   ],
   "source": [
    "data['mean_sent_length'] = data['Review'].map(lambda rev: np.mean([len(sent) for sent in tokenize.sent_tokenize(rev)]))\n",
    "data.head(10)"
   ]
  },
  {
   "cell_type": "markdown",
   "id": "UuyyDBTIb4r-",
   "metadata": {
    "id": "UuyyDBTIb4r-"
   },
   "source": [
    "This code defines a function visualize which takes a column name as input and generates a box plot and a kernel density plot of the column's distribution with respect to the Rating variable using the seaborn library. The box plot is generated in the first subplot and the kernel density plot is generated in the second subplot of a matplotlib figure.\n",
    "\n",
    "\n",
    "\n"
   ]
  },
  {
   "cell_type": "code",
   "execution_count": 16,
   "id": "0zVCCT39aWGO",
   "metadata": {
    "executionInfo": {
     "elapsed": 493,
     "status": "ok",
     "timestamp": 1681235597759,
     "user": {
      "displayName": "Hồ Tuấn Long",
      "userId": "17493867880430202716"
     },
     "user_tz": -420
    },
    "id": "0zVCCT39aWGO"
   },
   "outputs": [],
   "source": [
    "def visualize(col):\n",
    "    \n",
    "    print()\n",
    "    plt.subplot(1,2,1)\n",
    "    sns.boxplot(y=data[col], hue=data['Rating'])\n",
    "    plt.ylabel(col, labelpad=12.5)\n",
    "    \n",
    "    plt.subplot(1,2,2)\n",
    "    # sns.kdeplot(data[col], hue=data['Rating'])\n",
    "    sns.displot(data=data, x=col, hue=data['Rating'], kind=\"kde\")\n",
    "    plt.legend(data['Rating'].unique())\n",
    "    plt.xlabel('')\n",
    "    plt.ylabel('')\n",
    "    \n",
    "    plt.show()"
   ]
  },
  {
   "cell_type": "markdown",
   "id": "pNDKdVSgb1Uf",
   "metadata": {
    "id": "pNDKdVSgb1Uf"
   },
   "source": [
    "This code loops through all the columns in the data DataFrame starting from the third column, and calls the visualize() function for each column to generate a visualization of the column's distribution with respect to the Rating variable.\n",
    "\n",
    "\n",
    "\n"
   ]
  },
  {
   "cell_type": "code",
   "execution_count": 17,
   "id": "TimQZlYmaVGA",
   "metadata": {
    "colab": {
     "base_uri": "https://localhost:8080/",
     "height": 1000
    },
    "executionInfo": {
     "elapsed": 6646,
     "status": "ok",
     "timestamp": 1681235606770,
     "user": {
      "displayName": "Hồ Tuấn Long",
      "userId": "17493867880430202716"
     },
     "user_tz": -420
    },
    "id": "TimQZlYmaVGA",
    "outputId": "773c4b37-efc6-4de0-be45-d9d68e52b12e"
   },
   "outputs": [
    {
     "name": "stdout",
     "output_type": "stream",
     "text": [
      "\n"
     ]
    },
    {
     "data": {
      "image/png": "[encoded data removed]",
      "text/plain": [
       "<Figure size 1700x700 with 2 Axes>"
      ]
     },
     "metadata": {},
     "output_type": "display_data"
    },
    {
     "data": {
      "image/png": "[encoded data removed]",
      "text/plain": [
       "<Figure size 702.125x500 with 1 Axes>"
      ]
     },
     "metadata": {},
     "output_type": "display_data"
    },
    {
     "name": "stdout",
     "output_type": "stream",
     "text": [
      "\n"
     ]
    },
    {
     "data": {
      "image/png": "[encoded data removed]",
      "text/plain": [
       "<Figure size 1700x700 with 2 Axes>"
      ]
     },
     "metadata": {},
     "output_type": "display_data"
    },
    {
     "data": {
      "image/png": "[encoded data removed]",
      "text/plain": [
       "<Figure size 702.125x500 with 1 Axes>"
      ]
     },
     "metadata": {},
     "output_type": "display_data"
    },
    {
     "name": "stdout",
     "output_type": "stream",
     "text": [
      "\n"
     ]
    },
    {
     "data": {
      "image/png": "[encoded data removed]",
      "text/plain": [
       "<Figure size 1700x700 with 2 Axes>"
      ]
     },
     "metadata": {},
     "output_type": "display_data"
    },
    {
     "data": {
      "image/png": "[encoded data removed]",
      "text/plain": [
       "<Figure size 702.125x500 with 1 Axes>"
      ]
     },
     "metadata": {},
     "output_type": "display_data"
    },
    {
     "name": "stdout",
     "output_type": "stream",
     "text": [
      "\n"
     ]
    },
    {
     "data": {
      "image/png": "[encoded data removed]",
      "text/plain": [
       "<Figure size 1700x700 with 2 Axes>"
      ]
     },
     "metadata": {},
     "output_type": "display_data"
    },
    {
     "data": {
      "image/png": "[encoded data removed]",
      "text/plain": [
       "<Figure size 702.125x500 with 1 Axes>"
      ]
     },
     "metadata": {},
     "output_type": "display_data"
    }
   ],
   "source": [
    "features = data.columns.tolist()[2:]\n",
    "for feature in features:\n",
    "    visualize(feature)"
   ]
  },
  {
   "cell_type": "markdown",
   "id": "bUx5TsICaU05",
   "metadata": {
    "id": "bUx5TsICaU05"
   },
   "source": []
  },
  {
   "cell_type": "markdown",
   "id": "dae2178e",
   "metadata": {
    "id": "dae2178e",
    "papermill": {
     "duration": 0.012662,
     "end_time": "2023-03-08T07:36:44.888840",
     "exception": false,
     "start_time": "2023-03-08T07:36:44.876178",
     "status": "completed"
    },
    "tags": []
   },
   "source": [
    "## Term Frequency Analysis\n",
    "Examining the most frequently occuring words is one of the most popular systems of Text analytics. For example, in a sentiment analysis problem, a positive text is bound to have words like 'good', 'great', 'nice', etc. more in number than other words that imply otherwise.\n",
    "\n",
    "*Note*: Term Frequencies are more than counts and lenghts, so the first requirement is to preprocess the text"
   ]
  },
  {
   "cell_type": "markdown",
   "id": "4XGB7GL2KDMu",
   "metadata": {
    "id": "4XGB7GL2KDMu"
   },
   "source": [
    "This code drops columns whose names are stored in the features list from the data dataframe and assigns the resulting dataframe to df. The resulting dataframe df has the same columns as data except for the dropped columns. head() is then called on df to display the first few rows of the resulting dataframe.\n",
    "\n",
    "\n",
    "\n",
    "\n"
   ]
  },
  {
   "cell_type": "code",
   "execution_count": 18,
   "id": "251bd3ea",
   "metadata": {
    "colab": {
     "base_uri": "https://localhost:8080/",
     "height": 206
    },
    "execution": {
     "iopub.execute_input": "2023-03-08T07:36:44.916117Z",
     "iopub.status.busy": "2023-03-08T07:36:44.915152Z",
     "iopub.status.idle": "2023-03-08T07:36:44.928045Z",
     "shell.execute_reply": "2023-03-08T07:36:44.926960Z"
    },
    "executionInfo": {
     "elapsed": 1161,
     "status": "ok",
     "timestamp": 1681235613021,
     "user": {
      "displayName": "Hồ Tuấn Long",
      "userId": "17493867880430202716"
     },
     "user_tz": -420
    },
    "id": "251bd3ea",
    "outputId": "804e0418-851b-49cd-8b67-1ab01ebe2996",
    "papermill": {
     "duration": 0.028999,
     "end_time": "2023-03-08T07:36:44.930423",
     "exception": false,
     "start_time": "2023-03-08T07:36:44.901424",
     "status": "completed"
    },
    "tags": []
   },
   "outputs": [
    {
     "data": {
      "text/html": [
       "\n",
       "  <div id=\"df-db2d3d77-8e95-4eb0-9b0e-6364716cab31\">\n",
       "    <div class=\"colab-df-container\">\n",
       "      <div>\n",
       "<style scoped>\n",
       "    .dataframe tbody tr th:only-of-type {\n",
       "        vertical-align: middle;\n",
       "    }\n",
       "\n",
       "    .dataframe tbody tr th {\n",
       "        vertical-align: top;\n",
       "    }\n",
       "\n",
       "    .dataframe thead th {\n",
       "        text-align: right;\n",
       "    }\n",
       "</style>\n",
       "<table border=\"1\" class=\"dataframe\">\n",
       "  <thead>\n",
       "    <tr style=\"text-align: right;\">\n",
       "      <th></th>\n",
       "      <th>Review</th>\n",
       "      <th>Rating</th>\n",
       "    </tr>\n",
       "  </thead>\n",
       "  <tbody>\n",
       "    <tr>\n",
       "      <th>0</th>\n",
       "      <td>nice hotel expensive parking got good deal sta...</td>\n",
       "      <td>Positive</td>\n",
       "    </tr>\n",
       "    <tr>\n",
       "      <th>1</th>\n",
       "      <td>ok nothing special charge diamond member hilto...</td>\n",
       "      <td>Negative</td>\n",
       "    </tr>\n",
       "    <tr>\n",
       "      <th>2</th>\n",
       "      <td>nice rooms not 4* experience hotel monaco seat...</td>\n",
       "      <td>Negative</td>\n",
       "    </tr>\n",
       "    <tr>\n",
       "      <th>3</th>\n",
       "      <td>unique, great stay, wonderful time hotel monac...</td>\n",
       "      <td>Positive</td>\n",
       "    </tr>\n",
       "    <tr>\n",
       "      <th>4</th>\n",
       "      <td>great stay great stay, went seahawk game aweso...</td>\n",
       "      <td>Positive</td>\n",
       "    </tr>\n",
       "  </tbody>\n",
       "</table>\n",
       "</div>\n",
       "      <button class=\"colab-df-convert\" onclick=\"convertToInteractive('df-db2d3d77-8e95-4eb0-9b0e-6364716cab31')\"\n",
       "              title=\"Convert this dataframe to an interactive table.\"\n",
       "              style=\"display:none;\">\n",
       "        \n",
       "  <svg xmlns=\"http://www.w3.org/2000/svg\" height=\"24px\"viewBox=\"0 0 24 24\"\n",
       "       width=\"24px\">\n",
       "    <path d=\"M0 0h24v24H0V0z\" fill=\"none\"/>\n",
       "    <path d=\"M18.56 5.44l.94 2.06.94-2.06 2.06-.94-2.06-.94-.94-2.06-.94 2.06-2.06.94zm-11 1L8.5 8.5l.94-2.06 2.06-.94-2.06-.94L8.5 2.5l-.94 2.06-2.06.94zm10 10l.94 2.06.94-2.06 2.06-.94-2.06-.94-.94-2.06-.94 2.06-2.06.94z\"/><path d=\"M17.41 7.96l-1.37-1.37c-.4-.4-.92-.59-1.43-.59-.52 0-1.04.2-1.43.59L10.3 9.45l-7.72 7.72c-.78.78-.78 2.05 0 2.83L4 21.41c.39.39.9.59 1.41.59.51 0 1.02-.2 1.41-.59l7.78-7.78 2.81-2.81c.8-.78.8-2.07 0-2.86zM5.41 20L4 18.59l7.72-7.72 1.47 1.35L5.41 20z\"/>\n",
       "  </svg>\n",
       "      </button>\n",
       "      \n",
       "  <style>\n",
       "    .colab-df-container {\n",
       "      display:flex;\n",
       "      flex-wrap:wrap;\n",
       "      gap: 12px;\n",
       "    }\n",
       "\n",
       "    .colab-df-convert {\n",
       "      background-color: #E8F0FE;\n",
       "      border: none;\n",
       "      border-radius: 50%;\n",
       "      cursor: pointer;\n",
       "      display: none;\n",
       "      fill: #1967D2;\n",
       "      height: 32px;\n",
       "      padding: 0 0 0 0;\n",
       "      width: 32px;\n",
       "    }\n",
       "\n",
       "    .colab-df-convert:hover {\n",
       "      background-color: #E2EBFA;\n",
       "      box-shadow: 0px 1px 2px rgba(60, 64, 67, 0.3), 0px 1px 3px 1px rgba(60, 64, 67, 0.15);\n",
       "      fill: #174EA6;\n",
       "    }\n",
       "\n",
       "    [theme=dark] .colab-df-convert {\n",
       "      background-color: #3B4455;\n",
       "      fill: #D2E3FC;\n",
       "    }\n",
       "\n",
       "    [theme=dark] .colab-df-convert:hover {\n",
       "      background-color: #434B5C;\n",
       "      box-shadow: 0px 1px 3px 1px rgba(0, 0, 0, 0.15);\n",
       "      filter: drop-shadow(0px 1px 2px rgba(0, 0, 0, 0.3));\n",
       "      fill: #FFFFFF;\n",
       "    }\n",
       "  </style>\n",
       "\n",
       "      <script>\n",
       "        const buttonEl =\n",
       "          document.querySelector('#df-db2d3d77-8e95-4eb0-9b0e-6364716cab31 button.colab-df-convert');\n",
       "        buttonEl.style.display =\n",
       "          google.colab.kernel.accessAllowed ? 'block' : 'none';\n",
       "\n",
       "        async function convertToInteractive(key) {\n",
       "          const element = document.querySelector('#df-db2d3d77-8e95-4eb0-9b0e-6364716cab31');\n",
       "          const dataTable =\n",
       "            await google.colab.kernel.invokeFunction('convertToInteractive',\n",
       "                                                     [key], {});\n",
       "          if (!dataTable) return;\n",
       "\n",
       "          const docLinkHtml = 'Like what you see? Visit the ' +\n",
       "            '<a target=\"_blank\" href=https://colab.research.google.com/notebooks/data_table.ipynb>data table notebook</a>'\n",
       "            + ' to learn more about interactive tables.';\n",
       "          element.innerHTML = '';\n",
       "          dataTable['output_type'] = 'display_data';\n",
       "          await google.colab.output.renderOutput(dataTable, element);\n",
       "          const docLink = document.createElement('div');\n",
       "          docLink.innerHTML = docLinkHtml;\n",
       "          element.appendChild(docLink);\n",
       "        }\n",
       "      </script>\n",
       "    </div>\n",
       "  </div>\n",
       "  "
      ],
      "text/plain": [
       "                                              Review    Rating\n",
       "0  nice hotel expensive parking got good deal sta...  Positive\n",
       "1  ok nothing special charge diamond member hilto...  Negative\n",
       "2  nice rooms not 4* experience hotel monaco seat...  Negative\n",
       "3  unique, great stay, wonderful time hotel monac...  Positive\n",
       "4  great stay great stay, went seahawk game aweso...  Positive"
      ]
     },
     "execution_count": 18,
     "metadata": {},
     "output_type": "execute_result"
    }
   ],
   "source": [
    "df = data.drop(features, axis=1)\n",
    "df.head()"
   ]
  },
  {
   "cell_type": "markdown",
   "id": "BJxKtVilKEkz",
   "metadata": {
    "id": "BJxKtVilKEkz"
   },
   "source": [
    "This code print information of data frame"
   ]
  },
  {
   "cell_type": "code",
   "execution_count": 19,
   "id": "da587856",
   "metadata": {
    "colab": {
     "base_uri": "https://localhost:8080/"
    },
    "execution": {
     "iopub.execute_input": "2023-03-08T07:36:44.957584Z",
     "iopub.status.busy": "2023-03-08T07:36:44.957058Z",
     "iopub.status.idle": "2023-03-08T07:36:44.975039Z",
     "shell.execute_reply": "2023-03-08T07:36:44.973995Z"
    },
    "executionInfo": {
     "elapsed": 475,
     "status": "ok",
     "timestamp": 1681235615917,
     "user": {
      "displayName": "Hồ Tuấn Long",
      "userId": "17493867880430202716"
     },
     "user_tz": -420
    },
    "id": "da587856",
    "outputId": "6885d0fc-6f39-4c55-d085-fa1225346be1",
    "papermill": {
     "duration": 0.033979,
     "end_time": "2023-03-08T07:36:44.977452",
     "exception": false,
     "start_time": "2023-03-08T07:36:44.943473",
     "status": "completed"
    },
    "tags": []
   },
   "outputs": [
    {
     "name": "stdout",
     "output_type": "stream",
     "text": [
      "<class 'pandas.core.frame.DataFrame'>\n",
      "RangeIndex: 20491 entries, 0 to 20490\n",
      "Data columns (total 2 columns):\n",
      " #   Column  Non-Null Count  Dtype \n",
      "---  ------  --------------  ----- \n",
      " 0   Review  20491 non-null  object\n",
      " 1   Rating  20491 non-null  object\n",
      "dtypes: object(2)\n",
      "memory usage: 320.3+ KB\n"
     ]
    }
   ],
   "source": [
    "df.info()"
   ]
  },
  {
   "cell_type": "markdown",
   "id": "8c0c4fd9",
   "metadata": {
    "id": "8c0c4fd9",
    "papermill": {
     "duration": 0.012691,
     "end_time": "2023-03-08T07:36:45.003285",
     "exception": false,
     "start_time": "2023-03-08T07:36:44.990594",
     "status": "completed"
    },
    "tags": []
   },
   "source": [
    "There is no missing data, therefore, we can move to the next stage. For Term frequency analysis, it is essential that the text data be preprocessed.\n",
    "* Lowercase\n",
    "* Remove punctutations\n",
    "* Stopword removal"
   ]
  },
  {
   "cell_type": "markdown",
   "id": "ghMi6m21KJTP",
   "metadata": {
    "id": "ghMi6m21KJTP"
   },
   "source": [
    "This is a function that takes in a review and performs several cleaning steps on it, including lowercasing, removing non-alphanumeric characters, and removing stopwords in English.\n",
    "\n",
    "\n",
    "\n",
    "\n"
   ]
  },
  {
   "cell_type": "code",
   "execution_count": 20,
   "id": "053963ca",
   "metadata": {
    "execution": {
     "iopub.execute_input": "2023-03-08T07:36:45.030551Z",
     "iopub.status.busy": "2023-03-08T07:36:45.029665Z",
     "iopub.status.idle": "2023-03-08T07:36:45.035669Z",
     "shell.execute_reply": "2023-03-08T07:36:45.034768Z"
    },
    "executionInfo": {
     "elapsed": 556,
     "status": "ok",
     "timestamp": 1681235620157,
     "user": {
      "displayName": "Hồ Tuấn Long",
      "userId": "17493867880430202716"
     },
     "user_tz": -420
    },
    "id": "053963ca",
    "papermill": {
     "duration": 0.021857,
     "end_time": "2023-03-08T07:36:45.037770",
     "exception": false,
     "start_time": "2023-03-08T07:36:45.015913",
     "status": "completed"
    },
    "tags": []
   },
   "outputs": [],
   "source": [
    "def clean(review):\n",
    "    \n",
    "    review = review.lower()\n",
    "    review = re.sub('[^a-z A-Z 0-9-]+', '', review)\n",
    "    review = \" \".join([word for word in review.split() if word not in stopwords.words('english')])\n",
    "    \n",
    "    return review"
   ]
  },
  {
   "cell_type": "markdown",
   "id": "oldsw3IFKMZO",
   "metadata": {
    "id": "oldsw3IFKMZO"
   },
   "source": [
    "This code downloads the \"stopwords\" tokenizer from the Natural Language Toolkit (nltk) library. The \"stopwords\" tokenizer is used to tokenize words from text data.\n",
    "\n",
    "\n",
    "\n",
    "\n"
   ]
  },
  {
   "cell_type": "code",
   "execution_count": 21,
   "id": "DTEKxyls1_8z",
   "metadata": {
    "colab": {
     "base_uri": "https://localhost:8080/"
    },
    "executionInfo": {
     "elapsed": 452,
     "status": "ok",
     "timestamp": 1681235623270,
     "user": {
      "displayName": "Hồ Tuấn Long",
      "userId": "17493867880430202716"
     },
     "user_tz": -420
    },
    "id": "DTEKxyls1_8z",
    "outputId": "f0f66e4b-b7c5-49ab-b66d-91169e6643e6"
   },
   "outputs": [
    {
     "name": "stderr",
     "output_type": "stream",
     "text": [
      "[nltk_data] Downloading package stopwords to /root/nltk_data...\n",
      "[nltk_data]   Unzipping corpora/stopwords.zip.\n"
     ]
    },
    {
     "data": {
      "text/plain": [
       "True"
      ]
     },
     "execution_count": 21,
     "metadata": {},
     "output_type": "execute_result"
    }
   ],
   "source": [
    "nltk.download('stopwords')"
   ]
  },
  {
   "cell_type": "markdown",
   "id": "B4tP43Y4KWeO",
   "metadata": {
    "id": "B4tP43Y4KWeO"
   },
   "source": [
    "The code block above applies the clean() function to each review in the df DataFrame. The function first makes all the letters lowercase and removes any character that is not a letter, digit, space, or hyphen. Then, it splits the review into individual words and removes any stop words from it using the stopwords package from the nltk library."
   ]
  },
  {
   "cell_type": "code",
   "execution_count": 22,
   "id": "ead2d31f",
   "metadata": {
    "_kg_hide-output": true,
    "colab": {
     "base_uri": "https://localhost:8080/",
     "height": 363
    },
    "execution": {
     "iopub.execute_input": "2023-03-08T07:36:45.064560Z",
     "iopub.status.busy": "2023-03-08T07:36:45.063980Z",
     "iopub.status.idle": "2023-03-08T07:40:50.650242Z",
     "shell.execute_reply": "2023-03-08T07:40:50.649321Z"
    },
    "executionInfo": {
     "elapsed": 239813,
     "status": "ok",
     "timestamp": 1681235865392,
     "user": {
      "displayName": "Hồ Tuấn Long",
      "userId": "17493867880430202716"
     },
     "user_tz": -420
    },
    "id": "ead2d31f",
    "outputId": "330003d7-c446-47c7-92c0-dbb0c942301a",
    "papermill": {
     "duration": 245.612439,
     "end_time": "2023-03-08T07:40:50.662682",
     "exception": false,
     "start_time": "2023-03-08T07:36:45.050243",
     "status": "completed"
    },
    "tags": []
   },
   "outputs": [
    {
     "data": {
      "text/html": [
       "\n",
       "  <div id=\"df-2a6a4e7d-c237-497c-a166-24ec8627691d\">\n",
       "    <div class=\"colab-df-container\">\n",
       "      <div>\n",
       "<style scoped>\n",
       "    .dataframe tbody tr th:only-of-type {\n",
       "        vertical-align: middle;\n",
       "    }\n",
       "\n",
       "    .dataframe tbody tr th {\n",
       "        vertical-align: top;\n",
       "    }\n",
       "\n",
       "    .dataframe thead th {\n",
       "        text-align: right;\n",
       "    }\n",
       "</style>\n",
       "<table border=\"1\" class=\"dataframe\">\n",
       "  <thead>\n",
       "    <tr style=\"text-align: right;\">\n",
       "      <th></th>\n",
       "      <th>Review</th>\n",
       "      <th>Rating</th>\n",
       "    </tr>\n",
       "  </thead>\n",
       "  <tbody>\n",
       "    <tr>\n",
       "      <th>0</th>\n",
       "      <td>nice hotel expensive parking got good deal sta...</td>\n",
       "      <td>Positive</td>\n",
       "    </tr>\n",
       "    <tr>\n",
       "      <th>1</th>\n",
       "      <td>ok nothing special charge diamond member hilto...</td>\n",
       "      <td>Negative</td>\n",
       "    </tr>\n",
       "    <tr>\n",
       "      <th>2</th>\n",
       "      <td>nice rooms 4 experience hotel monaco seattle g...</td>\n",
       "      <td>Negative</td>\n",
       "    </tr>\n",
       "    <tr>\n",
       "      <th>3</th>\n",
       "      <td>unique great stay wonderful time hotel monaco ...</td>\n",
       "      <td>Positive</td>\n",
       "    </tr>\n",
       "    <tr>\n",
       "      <th>4</th>\n",
       "      <td>great stay great stay went seahawk game awesom...</td>\n",
       "      <td>Positive</td>\n",
       "    </tr>\n",
       "    <tr>\n",
       "      <th>5</th>\n",
       "      <td>love monaco staff husband stayed hotel crazy w...</td>\n",
       "      <td>Positive</td>\n",
       "    </tr>\n",
       "    <tr>\n",
       "      <th>6</th>\n",
       "      <td>cozy stay rainy city husband spent 7 nights mo...</td>\n",
       "      <td>Positive</td>\n",
       "    </tr>\n",
       "    <tr>\n",
       "      <th>7</th>\n",
       "      <td>excellent staff housekeeping quality hotel cho...</td>\n",
       "      <td>Positive</td>\n",
       "    </tr>\n",
       "    <tr>\n",
       "      <th>8</th>\n",
       "      <td>hotel stayed hotel monaco cruise rooms generou...</td>\n",
       "      <td>Positive</td>\n",
       "    </tr>\n",
       "    <tr>\n",
       "      <th>9</th>\n",
       "      <td>excellent stayed hotel monaco past delight rec...</td>\n",
       "      <td>Positive</td>\n",
       "    </tr>\n",
       "  </tbody>\n",
       "</table>\n",
       "</div>\n",
       "      <button class=\"colab-df-convert\" onclick=\"convertToInteractive('df-2a6a4e7d-c237-497c-a166-24ec8627691d')\"\n",
       "              title=\"Convert this dataframe to an interactive table.\"\n",
       "              style=\"display:none;\">\n",
       "        \n",
       "  <svg xmlns=\"http://www.w3.org/2000/svg\" height=\"24px\"viewBox=\"0 0 24 24\"\n",
       "       width=\"24px\">\n",
       "    <path d=\"M0 0h24v24H0V0z\" fill=\"none\"/>\n",
       "    <path d=\"M18.56 5.44l.94 2.06.94-2.06 2.06-.94-2.06-.94-.94-2.06-.94 2.06-2.06.94zm-11 1L8.5 8.5l.94-2.06 2.06-.94-2.06-.94L8.5 2.5l-.94 2.06-2.06.94zm10 10l.94 2.06.94-2.06 2.06-.94-2.06-.94-.94-2.06-.94 2.06-2.06.94z\"/><path d=\"M17.41 7.96l-1.37-1.37c-.4-.4-.92-.59-1.43-.59-.52 0-1.04.2-1.43.59L10.3 9.45l-7.72 7.72c-.78.78-.78 2.05 0 2.83L4 21.41c.39.39.9.59 1.41.59.51 0 1.02-.2 1.41-.59l7.78-7.78 2.81-2.81c.8-.78.8-2.07 0-2.86zM5.41 20L4 18.59l7.72-7.72 1.47 1.35L5.41 20z\"/>\n",
       "  </svg>\n",
       "      </button>\n",
       "      \n",
       "  <style>\n",
       "    .colab-df-container {\n",
       "      display:flex;\n",
       "      flex-wrap:wrap;\n",
       "      gap: 12px;\n",
       "    }\n",
       "\n",
       "    .colab-df-convert {\n",
       "      background-color: #E8F0FE;\n",
       "      border: none;\n",
       "      border-radius: 50%;\n",
       "      cursor: pointer;\n",
       "      display: none;\n",
       "      fill: #1967D2;\n",
       "      height: 32px;\n",
       "      padding: 0 0 0 0;\n",
       "      width: 32px;\n",
       "    }\n",
       "\n",
       "    .colab-df-convert:hover {\n",
       "      background-color: #E2EBFA;\n",
       "      box-shadow: 0px 1px 2px rgba(60, 64, 67, 0.3), 0px 1px 3px 1px rgba(60, 64, 67, 0.15);\n",
       "      fill: #174EA6;\n",
       "    }\n",
       "\n",
       "    [theme=dark] .colab-df-convert {\n",
       "      background-color: #3B4455;\n",
       "      fill: #D2E3FC;\n",
       "    }\n",
       "\n",
       "    [theme=dark] .colab-df-convert:hover {\n",
       "      background-color: #434B5C;\n",
       "      box-shadow: 0px 1px 3px 1px rgba(0, 0, 0, 0.15);\n",
       "      filter: drop-shadow(0px 1px 2px rgba(0, 0, 0, 0.3));\n",
       "      fill: #FFFFFF;\n",
       "    }\n",
       "  </style>\n",
       "\n",
       "      <script>\n",
       "        const buttonEl =\n",
       "          document.querySelector('#df-2a6a4e7d-c237-497c-a166-24ec8627691d button.colab-df-convert');\n",
       "        buttonEl.style.display =\n",
       "          google.colab.kernel.accessAllowed ? 'block' : 'none';\n",
       "\n",
       "        async function convertToInteractive(key) {\n",
       "          const element = document.querySelector('#df-2a6a4e7d-c237-497c-a166-24ec8627691d');\n",
       "          const dataTable =\n",
       "            await google.colab.kernel.invokeFunction('convertToInteractive',\n",
       "                                                     [key], {});\n",
       "          if (!dataTable) return;\n",
       "\n",
       "          const docLinkHtml = 'Like what you see? Visit the ' +\n",
       "            '<a target=\"_blank\" href=https://colab.research.google.com/notebooks/data_table.ipynb>data table notebook</a>'\n",
       "            + ' to learn more about interactive tables.';\n",
       "          element.innerHTML = '';\n",
       "          dataTable['output_type'] = 'display_data';\n",
       "          await google.colab.output.renderOutput(dataTable, element);\n",
       "          const docLink = document.createElement('div');\n",
       "          docLink.innerHTML = docLinkHtml;\n",
       "          element.appendChild(docLink);\n",
       "        }\n",
       "      </script>\n",
       "    </div>\n",
       "  </div>\n",
       "  "
      ],
      "text/plain": [
       "                                              Review    Rating\n",
       "0  nice hotel expensive parking got good deal sta...  Positive\n",
       "1  ok nothing special charge diamond member hilto...  Negative\n",
       "2  nice rooms 4 experience hotel monaco seattle g...  Negative\n",
       "3  unique great stay wonderful time hotel monaco ...  Positive\n",
       "4  great stay great stay went seahawk game awesom...  Positive\n",
       "5  love monaco staff husband stayed hotel crazy w...  Positive\n",
       "6  cozy stay rainy city husband spent 7 nights mo...  Positive\n",
       "7  excellent staff housekeeping quality hotel cho...  Positive\n",
       "8  hotel stayed hotel monaco cruise rooms generou...  Positive\n",
       "9  excellent stayed hotel monaco past delight rec...  Positive"
      ]
     },
     "execution_count": 22,
     "metadata": {},
     "output_type": "execute_result"
    }
   ],
   "source": [
    "df['Review'] = df['Review'].apply(clean)\n",
    "df.head(10)"
   ]
  },
  {
   "cell_type": "markdown",
   "id": "jHUWqy9sKXd-",
   "metadata": {
    "id": "jHUWqy9sKXd-"
   },
   "source": [
    "This code print the first sample of the Review feature"
   ]
  },
  {
   "cell_type": "code",
   "execution_count": 23,
   "id": "aba418a0",
   "metadata": {
    "colab": {
     "base_uri": "https://localhost:8080/",
     "height": 73
    },
    "execution": {
     "iopub.execute_input": "2023-03-08T07:40:50.688969Z",
     "iopub.status.busy": "2023-03-08T07:40:50.688101Z",
     "iopub.status.idle": "2023-03-08T07:40:50.694758Z",
     "shell.execute_reply": "2023-03-08T07:40:50.693802Z"
    },
    "executionInfo": {
     "elapsed": 467,
     "status": "ok",
     "timestamp": 1681235870177,
     "user": {
      "displayName": "Hồ Tuấn Long",
      "userId": "17493867880430202716"
     },
     "user_tz": -420
    },
    "id": "aba418a0",
    "outputId": "eac2fb83-1586-476b-c8ce-d1a2dd049640",
    "papermill": {
     "duration": 0.021955,
     "end_time": "2023-03-08T07:40:50.696802",
     "exception": false,
     "start_time": "2023-03-08T07:40:50.674847",
     "status": "completed"
    },
    "tags": []
   },
   "outputs": [
    {
     "data": {
      "application/vnd.google.colaboratory.intrinsic+json": {
       "type": "string"
      },
      "text/plain": [
       "'nice hotel expensive parking got good deal stay hotel anniversary arrived late evening took advice previous reviews valet parking check quick easy little disappointed non-existent view room room clean nice size bed comfortable woke stiff neck high pillows soundproof like heard music room night morning loud bangs doors opening closing hear people talking hallway maybe noisy neighbors aveda bath products nice goldfish stay nice touch taken advantage staying longer location great walking distance shopping overall nice experience pay 40 parking night'"
      ]
     },
     "execution_count": 23,
     "metadata": {},
     "output_type": "execute_result"
    }
   ],
   "source": [
    "df['Review'][0]"
   ]
  },
  {
   "cell_type": "markdown",
   "id": "zVfdnEIxKd8c",
   "metadata": {
    "id": "zVfdnEIxKd8c"
   },
   "source": [
    "The corpus function splits a string of text into a list of words.\n",
    "\n",
    "\n",
    "\n",
    "\n"
   ]
  },
  {
   "cell_type": "code",
   "execution_count": 24,
   "id": "3e46fdd2",
   "metadata": {
    "execution": {
     "iopub.execute_input": "2023-03-08T07:40:50.722998Z",
     "iopub.status.busy": "2023-03-08T07:40:50.722166Z",
     "iopub.status.idle": "2023-03-08T07:40:50.727087Z",
     "shell.execute_reply": "2023-03-08T07:40:50.726246Z"
    },
    "executionInfo": {
     "elapsed": 413,
     "status": "ok",
     "timestamp": 1681235873287,
     "user": {
      "displayName": "Hồ Tuấn Long",
      "userId": "17493867880430202716"
     },
     "user_tz": -420
    },
    "id": "3e46fdd2",
    "papermill": {
     "duration": 0.020082,
     "end_time": "2023-03-08T07:40:50.729055",
     "exception": false,
     "start_time": "2023-03-08T07:40:50.708973",
     "status": "completed"
    },
    "tags": []
   },
   "outputs": [],
   "source": [
    "def corpus(text):\n",
    "    text_list = text.split()\n",
    "    return text_list"
   ]
  },
  {
   "cell_type": "markdown",
   "id": "5jfpSeMKKiLt",
   "metadata": {
    "id": "5jfpSeMKKiLt"
   },
   "source": [
    "This code is creating a new column 'Review_lists' in the dataframe 'df' that contains the review text converted into a list of individual words for each row. It uses the 'corpus' function to split each review into a list of words.\n",
    "\n",
    "\n",
    "\n",
    "\n"
   ]
  },
  {
   "cell_type": "code",
   "execution_count": 25,
   "id": "b1c8b170",
   "metadata": {
    "_kg_hide-output": true,
    "colab": {
     "base_uri": "https://localhost:8080/",
     "height": 363
    },
    "execution": {
     "iopub.execute_input": "2023-03-08T07:40:50.755821Z",
     "iopub.status.busy": "2023-03-08T07:40:50.754880Z",
     "iopub.status.idle": "2023-03-08T07:40:51.135484Z",
     "shell.execute_reply": "2023-03-08T07:40:51.134347Z"
    },
    "executionInfo": {
     "elapsed": 6,
     "status": "ok",
     "timestamp": 1681235875277,
     "user": {
      "displayName": "Hồ Tuấn Long",
      "userId": "17493867880430202716"
     },
     "user_tz": -420
    },
    "id": "b1c8b170",
    "outputId": "42007507-6ec2-4925-a820-3988c35f273d",
    "papermill": {
     "duration": 0.397016,
     "end_time": "2023-03-08T07:40:51.138309",
     "exception": false,
     "start_time": "2023-03-08T07:40:50.741293",
     "status": "completed"
    },
    "tags": []
   },
   "outputs": [
    {
     "data": {
      "text/html": [
       "\n",
       "  <div id=\"df-769dcdac-0bb6-4e79-8512-9bba09c41aab\">\n",
       "    <div class=\"colab-df-container\">\n",
       "      <div>\n",
       "<style scoped>\n",
       "    .dataframe tbody tr th:only-of-type {\n",
       "        vertical-align: middle;\n",
       "    }\n",
       "\n",
       "    .dataframe tbody tr th {\n",
       "        vertical-align: top;\n",
       "    }\n",
       "\n",
       "    .dataframe thead th {\n",
       "        text-align: right;\n",
       "    }\n",
       "</style>\n",
       "<table border=\"1\" class=\"dataframe\">\n",
       "  <thead>\n",
       "    <tr style=\"text-align: right;\">\n",
       "      <th></th>\n",
       "      <th>Review</th>\n",
       "      <th>Rating</th>\n",
       "      <th>Review_lists</th>\n",
       "    </tr>\n",
       "  </thead>\n",
       "  <tbody>\n",
       "    <tr>\n",
       "      <th>0</th>\n",
       "      <td>nice hotel expensive parking got good deal sta...</td>\n",
       "      <td>Positive</td>\n",
       "      <td>[nice, hotel, expensive, parking, got, good, d...</td>\n",
       "    </tr>\n",
       "    <tr>\n",
       "      <th>1</th>\n",
       "      <td>ok nothing special charge diamond member hilto...</td>\n",
       "      <td>Negative</td>\n",
       "      <td>[ok, nothing, special, charge, diamond, member...</td>\n",
       "    </tr>\n",
       "    <tr>\n",
       "      <th>2</th>\n",
       "      <td>nice rooms 4 experience hotel monaco seattle g...</td>\n",
       "      <td>Negative</td>\n",
       "      <td>[nice, rooms, 4, experience, hotel, monaco, se...</td>\n",
       "    </tr>\n",
       "    <tr>\n",
       "      <th>3</th>\n",
       "      <td>unique great stay wonderful time hotel monaco ...</td>\n",
       "      <td>Positive</td>\n",
       "      <td>[unique, great, stay, wonderful, time, hotel, ...</td>\n",
       "    </tr>\n",
       "    <tr>\n",
       "      <th>4</th>\n",
       "      <td>great stay great stay went seahawk game awesom...</td>\n",
       "      <td>Positive</td>\n",
       "      <td>[great, stay, great, stay, went, seahawk, game...</td>\n",
       "    </tr>\n",
       "    <tr>\n",
       "      <th>5</th>\n",
       "      <td>love monaco staff husband stayed hotel crazy w...</td>\n",
       "      <td>Positive</td>\n",
       "      <td>[love, monaco, staff, husband, stayed, hotel, ...</td>\n",
       "    </tr>\n",
       "    <tr>\n",
       "      <th>6</th>\n",
       "      <td>cozy stay rainy city husband spent 7 nights mo...</td>\n",
       "      <td>Positive</td>\n",
       "      <td>[cozy, stay, rainy, city, husband, spent, 7, n...</td>\n",
       "    </tr>\n",
       "    <tr>\n",
       "      <th>7</th>\n",
       "      <td>excellent staff housekeeping quality hotel cho...</td>\n",
       "      <td>Positive</td>\n",
       "      <td>[excellent, staff, housekeeping, quality, hote...</td>\n",
       "    </tr>\n",
       "    <tr>\n",
       "      <th>8</th>\n",
       "      <td>hotel stayed hotel monaco cruise rooms generou...</td>\n",
       "      <td>Positive</td>\n",
       "      <td>[hotel, stayed, hotel, monaco, cruise, rooms, ...</td>\n",
       "    </tr>\n",
       "    <tr>\n",
       "      <th>9</th>\n",
       "      <td>excellent stayed hotel monaco past delight rec...</td>\n",
       "      <td>Positive</td>\n",
       "      <td>[excellent, stayed, hotel, monaco, past, delig...</td>\n",
       "    </tr>\n",
       "  </tbody>\n",
       "</table>\n",
       "</div>\n",
       "      <button class=\"colab-df-convert\" onclick=\"convertToInteractive('df-769dcdac-0bb6-4e79-8512-9bba09c41aab')\"\n",
       "              title=\"Convert this dataframe to an interactive table.\"\n",
       "              style=\"display:none;\">\n",
       "        \n",
       "  <svg xmlns=\"http://www.w3.org/2000/svg\" height=\"24px\"viewBox=\"0 0 24 24\"\n",
       "       width=\"24px\">\n",
       "    <path d=\"M0 0h24v24H0V0z\" fill=\"none\"/>\n",
       "    <path d=\"M18.56 5.44l.94 2.06.94-2.06 2.06-.94-2.06-.94-.94-2.06-.94 2.06-2.06.94zm-11 1L8.5 8.5l.94-2.06 2.06-.94-2.06-.94L8.5 2.5l-.94 2.06-2.06.94zm10 10l.94 2.06.94-2.06 2.06-.94-2.06-.94-.94-2.06-.94 2.06-2.06.94z\"/><path d=\"M17.41 7.96l-1.37-1.37c-.4-.4-.92-.59-1.43-.59-.52 0-1.04.2-1.43.59L10.3 9.45l-7.72 7.72c-.78.78-.78 2.05 0 2.83L4 21.41c.39.39.9.59 1.41.59.51 0 1.02-.2 1.41-.59l7.78-7.78 2.81-2.81c.8-.78.8-2.07 0-2.86zM5.41 20L4 18.59l7.72-7.72 1.47 1.35L5.41 20z\"/>\n",
       "  </svg>\n",
       "      </button>\n",
       "      \n",
       "  <style>\n",
       "    .colab-df-container {\n",
       "      display:flex;\n",
       "      flex-wrap:wrap;\n",
       "      gap: 12px;\n",
       "    }\n",
       "\n",
       "    .colab-df-convert {\n",
       "      background-color: #E8F0FE;\n",
       "      border: none;\n",
       "      border-radius: 50%;\n",
       "      cursor: pointer;\n",
       "      display: none;\n",
       "      fill: #1967D2;\n",
       "      height: 32px;\n",
       "      padding: 0 0 0 0;\n",
       "      width: 32px;\n",
       "    }\n",
       "\n",
       "    .colab-df-convert:hover {\n",
       "      background-color: #E2EBFA;\n",
       "      box-shadow: 0px 1px 2px rgba(60, 64, 67, 0.3), 0px 1px 3px 1px rgba(60, 64, 67, 0.15);\n",
       "      fill: #174EA6;\n",
       "    }\n",
       "\n",
       "    [theme=dark] .colab-df-convert {\n",
       "      background-color: #3B4455;\n",
       "      fill: #D2E3FC;\n",
       "    }\n",
       "\n",
       "    [theme=dark] .colab-df-convert:hover {\n",
       "      background-color: #434B5C;\n",
       "      box-shadow: 0px 1px 3px 1px rgba(0, 0, 0, 0.15);\n",
       "      filter: drop-shadow(0px 1px 2px rgba(0, 0, 0, 0.3));\n",
       "      fill: #FFFFFF;\n",
       "    }\n",
       "  </style>\n",
       "\n",
       "      <script>\n",
       "        const buttonEl =\n",
       "          document.querySelector('#df-769dcdac-0bb6-4e79-8512-9bba09c41aab button.colab-df-convert');\n",
       "        buttonEl.style.display =\n",
       "          google.colab.kernel.accessAllowed ? 'block' : 'none';\n",
       "\n",
       "        async function convertToInteractive(key) {\n",
       "          const element = document.querySelector('#df-769dcdac-0bb6-4e79-8512-9bba09c41aab');\n",
       "          const dataTable =\n",
       "            await google.colab.kernel.invokeFunction('convertToInteractive',\n",
       "                                                     [key], {});\n",
       "          if (!dataTable) return;\n",
       "\n",
       "          const docLinkHtml = 'Like what you see? Visit the ' +\n",
       "            '<a target=\"_blank\" href=https://colab.research.google.com/notebooks/data_table.ipynb>data table notebook</a>'\n",
       "            + ' to learn more about interactive tables.';\n",
       "          element.innerHTML = '';\n",
       "          dataTable['output_type'] = 'display_data';\n",
       "          await google.colab.output.renderOutput(dataTable, element);\n",
       "          const docLink = document.createElement('div');\n",
       "          docLink.innerHTML = docLinkHtml;\n",
       "          element.appendChild(docLink);\n",
       "        }\n",
       "      </script>\n",
       "    </div>\n",
       "  </div>\n",
       "  "
      ],
      "text/plain": [
       "                                              Review    Rating  \\\n",
       "0  nice hotel expensive parking got good deal sta...  Positive   \n",
       "1  ok nothing special charge diamond member hilto...  Negative   \n",
       "2  nice rooms 4 experience hotel monaco seattle g...  Negative   \n",
       "3  unique great stay wonderful time hotel monaco ...  Positive   \n",
       "4  great stay great stay went seahawk game awesom...  Positive   \n",
       "5  love monaco staff husband stayed hotel crazy w...  Positive   \n",
       "6  cozy stay rainy city husband spent 7 nights mo...  Positive   \n",
       "7  excellent staff housekeeping quality hotel cho...  Positive   \n",
       "8  hotel stayed hotel monaco cruise rooms generou...  Positive   \n",
       "9  excellent stayed hotel monaco past delight rec...  Positive   \n",
       "\n",
       "                                        Review_lists  \n",
       "0  [nice, hotel, expensive, parking, got, good, d...  \n",
       "1  [ok, nothing, special, charge, diamond, member...  \n",
       "2  [nice, rooms, 4, experience, hotel, monaco, se...  \n",
       "3  [unique, great, stay, wonderful, time, hotel, ...  \n",
       "4  [great, stay, great, stay, went, seahawk, game...  \n",
       "5  [love, monaco, staff, husband, stayed, hotel, ...  \n",
       "6  [cozy, stay, rainy, city, husband, spent, 7, n...  \n",
       "7  [excellent, staff, housekeeping, quality, hote...  \n",
       "8  [hotel, stayed, hotel, monaco, cruise, rooms, ...  \n",
       "9  [excellent, stayed, hotel, monaco, past, delig...  "
      ]
     },
     "execution_count": 25,
     "metadata": {},
     "output_type": "execute_result"
    }
   ],
   "source": [
    "df['Review_lists'] = df['Review'].apply(corpus)\n",
    "df.head(10)"
   ]
  },
  {
   "cell_type": "markdown",
   "id": "iTuZPZORKnE9",
   "metadata": {
    "id": "iTuZPZORKnE9"
   },
   "source": [
    "This code creates an empty list called corpus and then loops through each row of the DataFrame df. For each row, it extracts the value of the 'Review_lists' column (which is a list of words for the given review), and adds this list of words to the corpus list. The loop also includes a progress bar (using the tqdm library) to track the progress of the loop. Finally, the code prints the length of the corpus list, which represents the total number of words in all reviews in the DataFrame.\n",
    "\n",
    "\n",
    "\n",
    "\n"
   ]
  },
  {
   "cell_type": "code",
   "execution_count": 26,
   "id": "5805b5c2",
   "metadata": {
    "colab": {
     "base_uri": "https://localhost:8080/"
    },
    "execution": {
     "iopub.execute_input": "2023-03-08T07:40:51.172195Z",
     "iopub.status.busy": "2023-03-08T07:40:51.171858Z",
     "iopub.status.idle": "2023-03-08T07:40:51.333898Z",
     "shell.execute_reply": "2023-03-08T07:40:51.332759Z"
    },
    "executionInfo": {
     "elapsed": 1109,
     "status": "ok",
     "timestamp": 1681235879292,
     "user": {
      "displayName": "Hồ Tuấn Long",
      "userId": "17493867880430202716"
     },
     "user_tz": -420
    },
    "id": "5805b5c2",
    "outputId": "1d26c3c7-0bd0-4a41-e188-a75fd11e6a06",
    "papermill": {
     "duration": 0.185477,
     "end_time": "2023-03-08T07:40:51.336727",
     "exception": false,
     "start_time": "2023-03-08T07:40:51.151250",
     "status": "completed"
    },
    "tags": []
   },
   "outputs": [
    {
     "name": "stderr",
     "output_type": "stream",
     "text": [
      "100%|\u001b[32m████████████████████████████████████████████████████████████████████████████████████████████████████████\u001b[0m| 20491/20491 [00:00<00:00, 74595.55it/s]\u001b[0m\n"
     ]
    },
    {
     "data": {
      "text/plain": [
       "2060911"
      ]
     },
     "execution_count": 26,
     "metadata": {},
     "output_type": "execute_result"
    }
   ],
   "source": [
    "corpus = []\n",
    "for i in trange(df.shape[0], ncols=150, nrows=10, colour='green', smoothing=0.8):\n",
    "    corpus += df['Review_lists'][i]\n",
    "len(corpus)"
   ]
  },
  {
   "cell_type": "markdown",
   "id": "yJe4QmlEKqIc",
   "metadata": {
    "id": "yJe4QmlEKqIc"
   },
   "source": [
    "This code block uses the Counter module from the collections library to count the occurrences of each word in the 'corpus' list and returns the 10 most common words and their frequency as a list of tuples.\n",
    "\n",
    "\n",
    "\n",
    "\n"
   ]
  },
  {
   "cell_type": "code",
   "execution_count": 27,
   "id": "e2e6b568",
   "metadata": {
    "colab": {
     "base_uri": "https://localhost:8080/"
    },
    "execution": {
     "iopub.execute_input": "2023-03-08T07:40:51.366551Z",
     "iopub.status.busy": "2023-03-08T07:40:51.364882Z",
     "iopub.status.idle": "2023-03-08T07:40:51.655745Z",
     "shell.execute_reply": "2023-03-08T07:40:51.654838Z"
    },
    "executionInfo": {
     "elapsed": 475,
     "status": "ok",
     "timestamp": 1681235881941,
     "user": {
      "displayName": "Hồ Tuấn Long",
      "userId": "17493867880430202716"
     },
     "user_tz": -420
    },
    "id": "e2e6b568",
    "outputId": "1515fd46-20e9-4645-b6a5-0d9ad4f0871d",
    "papermill": {
     "duration": 0.30726,
     "end_time": "2023-03-08T07:40:51.657767",
     "exception": false,
     "start_time": "2023-03-08T07:40:51.350507",
     "status": "completed"
    },
    "tags": []
   },
   "outputs": [
    {
     "data": {
      "text/plain": [
       "[('hotel', 48844),\n",
       " ('room', 34279),\n",
       " ('great', 21068),\n",
       " ('nt', 18989),\n",
       " ('good', 16953),\n",
       " ('staff', 16193),\n",
       " ('stay', 15142),\n",
       " ('nice', 12393),\n",
       " ('rooms', 12005),\n",
       " ('location', 11009)]"
      ]
     },
     "execution_count": 27,
     "metadata": {},
     "output_type": "execute_result"
    }
   ],
   "source": [
    "mostCommon = Counter(corpus).most_common(10)\n",
    "mostCommon"
   ]
  },
  {
   "cell_type": "markdown",
   "id": "0-xzaSd5Kthj",
   "metadata": {
    "id": "0-xzaSd5Kthj"
   },
   "source": [
    "This code creates two empty lists words and freq. It then iterates over the mostCommon list of tuples (word, count), and appends the word to the words list and the count to the freq list. This is done to separate the words and their frequencies for further processing.\n",
    "\n",
    "\n",
    "\n",
    "\n"
   ]
  },
  {
   "cell_type": "code",
   "execution_count": 28,
   "id": "bfc056eb",
   "metadata": {
    "execution": {
     "iopub.execute_input": "2023-03-08T07:40:51.686068Z",
     "iopub.status.busy": "2023-03-08T07:40:51.685750Z",
     "iopub.status.idle": "2023-03-08T07:40:51.690503Z",
     "shell.execute_reply": "2023-03-08T07:40:51.689518Z"
    },
    "executionInfo": {
     "elapsed": 3,
     "status": "ok",
     "timestamp": 1681235883738,
     "user": {
      "displayName": "Hồ Tuấn Long",
      "userId": "17493867880430202716"
     },
     "user_tz": -420
    },
    "id": "bfc056eb",
    "papermill": {
     "duration": 0.021187,
     "end_time": "2023-03-08T07:40:51.692519",
     "exception": false,
     "start_time": "2023-03-08T07:40:51.671332",
     "status": "completed"
    },
    "tags": []
   },
   "outputs": [],
   "source": [
    "words = []\n",
    "freq = []\n",
    "for word, count in mostCommon:\n",
    "    words.append(word)\n",
    "    freq.append(count)"
   ]
  },
  {
   "cell_type": "markdown",
   "id": "HoQtCnrqKxeX",
   "metadata": {
    "id": "HoQtCnrqKxeX"
   },
   "source": [
    "This code block is creating a bar plot using Seaborn library to visualize the frequency of top 10 most commonly occurring words in the cleaned text corpus.\n",
    "\n",
    "\n",
    "\n",
    "\n"
   ]
  },
  {
   "cell_type": "code",
   "execution_count": 29,
   "id": "a3dfe933",
   "metadata": {
    "colab": {
     "base_uri": "https://localhost:8080/",
     "height": 641
    },
    "execution": {
     "iopub.execute_input": "2023-03-08T07:40:51.721723Z",
     "iopub.status.busy": "2023-03-08T07:40:51.720215Z",
     "iopub.status.idle": "2023-03-08T07:40:52.068729Z",
     "shell.execute_reply": "2023-03-08T07:40:52.067745Z"
    },
    "executionInfo": {
     "elapsed": 1034,
     "status": "ok",
     "timestamp": 1681235886822,
     "user": {
      "displayName": "Hồ Tuấn Long",
      "userId": "17493867880430202716"
     },
     "user_tz": -420
    },
    "id": "a3dfe933",
    "outputId": "56130cd8-6347-4f21-e47d-6106f58da61f",
    "papermill": {
     "duration": 0.364847,
     "end_time": "2023-03-08T07:40:52.070840",
     "exception": false,
     "start_time": "2023-03-08T07:40:51.705993",
     "status": "completed"
    },
    "tags": []
   },
   "outputs": [
    {
     "data": {
      "image/png": "[encoded data removed]",
      "text/plain": [
       "<Figure size 1700x700 with 1 Axes>"
      ]
     },
     "metadata": {},
     "output_type": "display_data"
    }
   ],
   "source": [
    "sns.barplot(x=freq, y=words)\n",
    "plt.title('Top 10 Most Frequently Occuring Words')\n",
    "plt.show()"
   ]
  },
  {
   "cell_type": "markdown",
   "id": "7f143e03",
   "metadata": {
    "id": "7f143e03",
    "papermill": {
     "duration": 0.01358,
     "end_time": "2023-03-08T07:40:52.098908",
     "exception": false,
     "start_time": "2023-03-08T07:40:52.085328",
     "status": "completed"
    },
    "tags": []
   },
   "source": [
    "## Most Frequently occuring N_grams\n",
    "\n",
    "**What is an N-gram?** <br>\n",
    "An n-gram is sequence of n words in a text. Most words by themselves may not present the entire context. Typically adverbs such as 'most' or 'very' are used to modify verbs and adjectives. Therefore, n-grams help analyse phrases and not just words which can lead to better insights.\n",
    "<br>\n",
    "> A **Bi-gram** means two words in a sequence. 'Very good' or 'Too great'<br>\n",
    "> A **Tri-gram** means three words in a sequence. 'How was your day' would be broken down to 'How was your' and 'was your day'.<br>\n",
    "\n",
    "For separating text into n-grams, we will use `CountVectorizer` from Sklearn"
   ]
  },
  {
   "cell_type": "markdown",
   "id": "wvcJnxbbK4yT",
   "metadata": {
    "id": "wvcJnxbbK4yT"
   },
   "source": [
    "This code block creates a count vectorizer with ngram range of 2 to 2 and then applies it to the preprocessed reviews in the DataFrame to extract bigrams.\n",
    "\n",
    "\n",
    "\n",
    "\n"
   ]
  },
  {
   "cell_type": "code",
   "execution_count": 30,
   "id": "dfdcdcf0",
   "metadata": {
    "execution": {
     "iopub.execute_input": "2023-03-08T07:40:52.129849Z",
     "iopub.status.busy": "2023-03-08T07:40:52.128204Z",
     "iopub.status.idle": "2023-03-08T07:40:57.974291Z",
     "shell.execute_reply": "2023-03-08T07:40:57.973286Z"
    },
    "executionInfo": {
     "elapsed": 9854,
     "status": "ok",
     "timestamp": 1681235900139,
     "user": {
      "displayName": "Hồ Tuấn Long",
      "userId": "17493867880430202716"
     },
     "user_tz": -420
    },
    "id": "dfdcdcf0",
    "papermill": {
     "duration": 5.863834,
     "end_time": "2023-03-08T07:40:57.976992",
     "exception": false,
     "start_time": "2023-03-08T07:40:52.113158",
     "status": "completed"
    },
    "tags": []
   },
   "outputs": [],
   "source": [
    "cv = CountVectorizer(ngram_range=(2,2))\n",
    "bigrams = cv.fit_transform(df['Review'])"
   ]
  },
  {
   "cell_type": "markdown",
   "id": "XLVAg2QaK9SL",
   "metadata": {
    "id": "XLVAg2QaK9SL"
   },
   "source": [
    "This code block computes the frequency of each bigram in the dataset by first summing up the occurrence of each bigram in all the reviews using bigrams.toarray().sum(axis=0). Then, it sorts the frequency values in descending order and stores them in a Pandas DataFrame called ngram_freq, with two columns: \"frequency\" and \"ngram\". The \"ngram\" column contains the bigrams and the \"frequency\" column contains the number of times each bigram appears in the dataset.\n",
    "\n",
    "\n",
    "\n",
    "\n"
   ]
  },
  {
   "cell_type": "code",
   "execution_count": 31,
   "id": "d9356278",
   "metadata": {
    "execution": {
     "iopub.execute_input": "2023-03-08T07:40:58.006026Z",
     "iopub.status.busy": "2023-03-08T07:40:58.005723Z",
     "iopub.status.idle": "2023-03-08T07:42:05.158750Z",
     "shell.execute_reply": "2023-03-08T07:42:05.157649Z"
    },
    "executionInfo": {
     "elapsed": 64451,
     "status": "ok",
     "timestamp": 1681235967752,
     "user": {
      "displayName": "Hồ Tuấn Long",
      "userId": "17493867880430202716"
     },
     "user_tz": -420
    },
    "id": "d9356278",
    "papermill": {
     "duration": 67.170327,
     "end_time": "2023-03-08T07:42:05.161488",
     "exception": false,
     "start_time": "2023-03-08T07:40:57.991161",
     "status": "completed"
    },
    "tags": []
   },
   "outputs": [],
   "source": [
    "count_values = bigrams.toarray().sum(axis=0)\n",
    "ngram_freq = pd.DataFrame(sorted([(count_values[i], k) for k, i in cv.vocabulary_.items()], reverse = True))\n",
    "ngram_freq.columns = [\"frequency\", \"ngram\"]"
   ]
  },
  {
   "cell_type": "markdown",
   "id": "ZCSwIiSHLJbQ",
   "metadata": {
    "id": "ZCSwIiSHLJbQ"
   },
   "source": [
    "This code plot the bar chart of Top 10 Most Frequently Occuring Bigrams\n",
    "\n"
   ]
  },
  {
   "cell_type": "code",
   "execution_count": 32,
   "id": "5c91b636",
   "metadata": {
    "colab": {
     "base_uri": "https://localhost:8080/",
     "height": 670
    },
    "execution": {
     "iopub.execute_input": "2023-03-08T07:42:05.190920Z",
     "iopub.status.busy": "2023-03-08T07:42:05.190603Z",
     "iopub.status.idle": "2023-03-08T07:42:05.472608Z",
     "shell.execute_reply": "2023-03-08T07:42:05.471691Z"
    },
    "executionInfo": {
     "elapsed": 743,
     "status": "ok",
     "timestamp": 1681235988286,
     "user": {
      "displayName": "Hồ Tuấn Long",
      "userId": "17493867880430202716"
     },
     "user_tz": -420
    },
    "id": "5c91b636",
    "outputId": "8b53fa8b-25ce-42c9-deaf-f367147bc889",
    "papermill": {
     "duration": 0.298846,
     "end_time": "2023-03-08T07:42:05.474759",
     "exception": false,
     "start_time": "2023-03-08T07:42:05.175913",
     "status": "completed"
    },
    "tags": []
   },
   "outputs": [
    {
     "data": {
      "image/png": "[encoded data removed]",
      "text/plain": [
       "<Figure size 1700x700 with 1 Axes>"
      ]
     },
     "metadata": {},
     "output_type": "display_data"
    }
   ],
   "source": [
    "sns.barplot(x=ngram_freq['frequency'][:10], y=ngram_freq['ngram'][:10])\n",
    "plt.title('Top 10 Most Frequently Occuring Bigrams')\n",
    "plt.show()"
   ]
  },
  {
   "cell_type": "markdown",
   "id": "MVUwyt3ELSnM",
   "metadata": {
    "id": "MVUwyt3ELSnM"
   },
   "source": [
    "This code block creates a CountVectorizer object with the ngram_range parameter set to (3,3) to extract trigrams from the preprocessed reviews. It then fits and transforms the reviews using this vectorizer and counts the frequency of each trigram in the corpus. A DataFrame is then created from this count data and sorted by frequency, and the top 10 most frequently occurring trigrams are displayed using a bar plot.\n",
    "\n",
    "\n",
    "\n",
    "\n"
   ]
  },
  {
   "cell_type": "code",
   "execution_count": 33,
   "id": "8a4b1b30",
   "metadata": {
    "execution": {
     "iopub.execute_input": "2023-03-08T07:42:05.505163Z",
     "iopub.status.busy": "2023-03-08T07:42:05.504866Z",
     "iopub.status.idle": "2023-03-08T07:44:13.761493Z",
     "shell.execute_reply": "2023-03-08T07:44:13.760425Z"
    },
    "executionInfo": {
     "elapsed": 123311,
     "status": "ok",
     "timestamp": 1681236113991,
     "user": {
      "displayName": "Hồ Tuấn Long",
      "userId": "17493867880430202716"
     },
     "user_tz": -420
    },
    "id": "8a4b1b30",
    "papermill": {
     "duration": 128.274913,
     "end_time": "2023-03-08T07:44:13.764453",
     "exception": false,
     "start_time": "2023-03-08T07:42:05.489540",
     "status": "completed"
    },
    "tags": []
   },
   "outputs": [],
   "source": [
    "cv1 = CountVectorizer(ngram_range=(3,3))\n",
    "trigrams = cv1.fit_transform(df['Review'])\n",
    "count_values = trigrams.toarray().sum(axis=0)\n",
    "ngram_freq = pd.DataFrame(sorted([(count_values[i], k) for k, i in cv1.vocabulary_.items()], reverse = True))\n",
    "ngram_freq.columns = [\"frequency\", \"ngram\"]"
   ]
  },
  {
   "cell_type": "markdown",
   "id": "5xtdQqc0LP-c",
   "metadata": {
    "id": "5xtdQqc0LP-c"
   },
   "source": [
    "This code plot the bar chart of Top 10 Most Frequently Occuring Trigrams\n"
   ]
  },
  {
   "cell_type": "code",
   "execution_count": 34,
   "id": "e8e8d279",
   "metadata": {
    "colab": {
     "base_uri": "https://localhost:8080/",
     "height": 670
    },
    "execution": {
     "iopub.execute_input": "2023-03-08T07:44:13.796444Z",
     "iopub.status.busy": "2023-03-08T07:44:13.796079Z",
     "iopub.status.idle": "2023-03-08T07:44:14.109323Z",
     "shell.execute_reply": "2023-03-08T07:44:14.108402Z"
    },
    "executionInfo": {
     "elapsed": 779,
     "status": "ok",
     "timestamp": 1681236119136,
     "user": {
      "displayName": "Hồ Tuấn Long",
      "userId": "17493867880430202716"
     },
     "user_tz": -420
    },
    "id": "e8e8d279",
    "outputId": "ffee6b51-68cb-4df5-dafa-d9b73f132125",
    "papermill": {
     "duration": 0.331161,
     "end_time": "2023-03-08T07:44:14.111601",
     "exception": false,
     "start_time": "2023-03-08T07:44:13.780440",
     "status": "completed"
    },
    "tags": []
   },
   "outputs": [
    {
     "data": {
      "image/png": "[encoded data removed]",
      "text/plain": [
       "<Figure size 1700x700 with 1 Axes>"
      ]
     },
     "metadata": {},
     "output_type": "display_data"
    }
   ],
   "source": [
    "sns.barplot(x=ngram_freq['frequency'][:10], y=ngram_freq['ngram'][:10])\n",
    "plt.title('Top 10 Most Frequently Occuring Trigrams')\n",
    "plt.show()"
   ]
  }
 ],
 "metadata": {
  "colab": {
   "provenance": []
  },
  "kernelspec": {
   "display_name": "Python 3 (ipykernel)",
   "language": "python",
   "name": "python3"
  },
  "language_info": {
   "codemirror_mode": {
    "name": "ipython",
    "version": 3
   },
   "file_extension": ".py",
   "mimetype": "text/x-python",
   "name": "python",
   "nbconvert_exporter": "python",
   "pygments_lexer": "ipython3",
   "version": "3.10.9"
  },
  "papermill": {
   "default_parameters": {},
   "duration": 465.432389,
   "end_time": "2023-03-08T07:44:15.280837",
   "environment_variables": {},
   "exception": null,
   "input_path": "__notebook__.ipynb",
   "output_path": "__notebook__.ipynb",
   "parameters": {},
   "start_time": "2023-03-08T07:36:29.848448",
   "version": "2.3.4"
  }
 },
 "nbformat": 4,
 "nbformat_minor": 5
}
